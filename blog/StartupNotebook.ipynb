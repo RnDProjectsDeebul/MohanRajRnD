{
 "cells": [
  {
   "cell_type": "code",
   "execution_count": 1,
   "id": "45747f76",
   "metadata": {},
   "outputs": [
    {
     "name": "stdout",
     "output_type": "stream",
     "text": [
      "\u001b[31mERROR: pip's dependency resolver does not currently take into account all the packages that are installed. This behaviour is the source of the following dependency conflicts.\r\n",
      "torchaudio 0.11.0+cu113 requires torch==1.11.0, but you have torch 1.13.1 which is incompatible.\u001b[0m\u001b[31m\r\n",
      "\u001b[0m"
     ]
    }
   ],
   "source": [
    "!pip install --upgrade torch torchvision -q"
   ]
  },
  {
   "cell_type": "code",
   "execution_count": 2,
   "id": "1109c113",
   "metadata": {},
   "outputs": [],
   "source": [
    "!pip install neptune-client -q"
   ]
  },
  {
   "cell_type": "code",
   "execution_count": 3,
   "id": "b871e327",
   "metadata": {},
   "outputs": [],
   "source": [
    "!pip install scikit-learn -q"
   ]
  },
  {
   "cell_type": "code",
   "execution_count": 4,
   "id": "62889a8f",
   "metadata": {},
   "outputs": [],
   "source": [
    "!pip install scikit-plot -q"
   ]
  },
  {
   "cell_type": "code",
   "execution_count": 5,
   "id": "52cc1c75",
   "metadata": {},
   "outputs": [],
   "source": [
    "!pip install torchmetrics -q"
   ]
  },
  {
   "cell_type": "code",
   "execution_count": 6,
   "id": "d050c626",
   "metadata": {},
   "outputs": [],
   "source": [
    "!pip install onnx -q"
   ]
  },
  {
   "cell_type": "code",
   "execution_count": 7,
   "id": "1d84dabe",
   "metadata": {},
   "outputs": [],
   "source": [
    "!pip install onnxruntime -q"
   ]
  },
  {
   "cell_type": "code",
   "execution_count": 8,
   "id": "16e40e6a",
   "metadata": {},
   "outputs": [],
   "source": [
    "!pip install onnx2pytorch -q"
   ]
  }
 ],
 "metadata": {
  "kernelspec": {
   "display_name": "Python 3 (ipykernel)",
   "language": "python",
   "name": "python3"
  },
  "language_info": {
   "codemirror_mode": {
    "name": "ipython",
    "version": 3
   },
   "file_extension": ".py",
   "mimetype": "text/x-python",
   "name": "python",
   "nbconvert_exporter": "python",
   "pygments_lexer": "ipython3",
   "version": "3.9.13"
  }
 },
 "nbformat": 4,
 "nbformat_minor": 5
}
