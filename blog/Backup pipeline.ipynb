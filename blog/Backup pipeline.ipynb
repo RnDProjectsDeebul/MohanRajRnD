{
 "cells": [
  {
   "cell_type": "code",
   "execution_count": null,
   "id": "c194fdfa",
   "metadata": {},
   "outputs": [],
   "source": [
    "# import os\n",
    "# import torchvision\n",
    "# import matplotlib.pyplot as plt\n",
    "# import numpy as np\n",
    "# import torchvision.transforms as transforms\n",
    "# from torchvision.models import MobileNetV2, resnet18, ResNet18_Weights\n",
    "\n",
    "# data_dir = os.path.abspath(\"../data\")\n",
    "# transform = transforms.Compose([transforms.ToTensor(),transforms.Normalize((0.5, 0.5, 0.5), (0.5, 0.5, 0.5)), transforms.RandomErasing()])\n",
    "# trainset = torchvision.datasets.CIFAR10(root=data_dir, train=True, download=True, transform=transform)\n",
    "# train_sub_len = int(len(trainset) * 0.0003)\n",
    "# train_subset, val_subset = torch.utils.data.random_split(trainset, [train_sub_len, len(trainset) - train_sub_len])\n",
    "# trainloader = torch.utils.data.DataLoader(train_subset, batch_size=2, shuffle=True, num_workers=2)"
   ]
  },
  {
   "cell_type": "code",
   "execution_count": null,
   "id": "459e4c64",
   "metadata": {},
   "outputs": [],
   "source": [
    "# classes = ('plane', 'car', 'bird', 'cat', 'deer', 'dog', 'frog', 'horse', 'ship', 'truck')\n",
    "# num_classes = len(classes)\n",
    "# epoch = 1\n",
    "# device = get_device()\n",
    "# model = resnet18()\n",
    "# model.fc = torch.nn.Linear(512, num_classes)"
   ]
  },
  {
   "cell_type": "code",
   "execution_count": null,
   "id": "4f5c9dd4",
   "metadata": {},
   "outputs": [],
   "source": [
    "# data = iter(trainloader)\n",
    "# img, labels = next(data)\n",
    "\n",
    "\n",
    "# def imshow(img):\n",
    "#     img = img / 2 + 0.5    \n",
    "#     npimg = img.numpy()\n",
    "#     plt.imshow(np.transpose(npimg, (1, 2, 0)))\n",
    "# imshow(torchvision.utils.make_grid(img))\n",
    "\n",
    "\n",
    "# y = F.one_hot(labels, num_classes=num_classes)\n",
    "# out = model(img)\n",
    "# _, preds = torch.max(out, 1)\n",
    "\n",
    "# print(classes)\n",
    "# print(out)\n",
    "# print(\"Prediction\",preds)\n",
    "# print(\"Actual\",labels)\n",
    "\n",
    "# print(\"----------------------------------\")\n",
    "\n",
    "# loss_fn = torch.nn.CrossEntropyLoss()\n",
    "# loss = loss_fn(out, labels)\n",
    "# print(\"CrossEntropyLoss\",loss)\n",
    "\n",
    "# loss = edl_mse_loss(out, y.float(), epoch, num_classes, 3, device)\n",
    "# print(\"edl_mse_loss\",loss)\n",
    "\n",
    "# loss = edl_log_loss(out, y.float(), epoch, num_classes, 3, device)\n",
    "# print(\"edl_log_loss\",loss)\n",
    "\n",
    "# loss = edl_digamma_loss(out, y.float(), epoch, num_classes, 3, device)\n",
    "# print(\"edl_digamma_loss\",loss)"
   ]
  },
  {
   "cell_type": "code",
   "execution_count": null,
   "id": "df4b8d6b",
   "metadata": {},
   "outputs": [],
   "source": [
    "# all_alpha = []\n",
    "# all_labels = []\n",
    "\n",
    "# for inputs, labels in trainloader:\n",
    "#     inputs = inputs.to(device)\n",
    "#     model.to(device)\n",
    "#     outputs = model(inputs)\n",
    "#     evidence = relu_evidence(outputs)\n",
    "#     alpha = evidence + 1\n",
    "#     all_alpha.extend(alpha.tolist() )\n",
    "#     all_labels.extend(labels.tolist())\n",
    "\n",
    "# all_alpha = np.array(all_alpha)\n",
    "# all_alpha.shape"
   ]
  },
  {
   "cell_type": "code",
   "execution_count": null,
   "id": "df7a3ca8",
   "metadata": {},
   "outputs": [],
   "source": [
    "# import pandas as pd\n",
    "# from scipy.stats import dirichlet, multinomial\n",
    "# import seaborn as sns\n",
    "\n",
    "# all_alpha = pd.DataFrame(all_alpha)\n",
    "\n",
    "# def calculate_dirchlet_entropy(alphas):\n",
    "#     return dirichlet(alphas).entropy()\n",
    "\n",
    "\n",
    "# all_alpha['entropy']=all_alpha.apply(lambda row: calculate_dirchlet_entropy( [row[0], row[1], row[2], row[3], row[4], row[5], row[6],row[7], row[8], row[9] ] ), axis=1)\n",
    "# all_alpha['true_labels'] = all_labels\n",
    "# all_alpha['predicted_label'] = all_alpha[[1,2,3,4,5,6,7,8,9]].idxmax(axis=1)\n",
    "# all_alpha['is_prediction_correct'] = all_alpha['true_labels'] == all_alpha['predicted_label']\n",
    "# all_alpha = all_alpha.astype({'entropy': 'float64'})\n",
    "# print(all_alpha)\n",
    "\n",
    "# d = {True: 'correct', False: 'incorrect'}\n",
    "# all_alpha['is_prediction_correct'] = all_alpha['is_prediction_correct'].replace(d)\n",
    "# g = sns.catplot(data=all_alpha, y=\"entropy\", x=\"is_prediction_correct\", kind=\"box\", height=5, aspect=1,)"
   ]
  }
 ],
 "metadata": {
  "kernelspec": {
   "display_name": "Python 3 (ipykernel)",
   "language": "python",
   "name": "python3"
  },
  "language_info": {
   "codemirror_mode": {
    "name": "ipython",
    "version": 3
   },
   "file_extension": ".py",
   "mimetype": "text/x-python",
   "name": "python",
   "nbconvert_exporter": "python",
   "pygments_lexer": "ipython3",
   "version": "3.9.13"
  }
 },
 "nbformat": 4,
 "nbformat_minor": 5
}
