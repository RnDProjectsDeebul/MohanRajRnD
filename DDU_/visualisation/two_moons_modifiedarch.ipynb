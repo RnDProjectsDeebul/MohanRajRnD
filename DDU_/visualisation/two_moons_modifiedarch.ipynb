{
 "cells": [
  {
   "cell_type": "code",
   "execution_count": 1,
   "metadata": {},
   "outputs": [],
   "source": [
    "import torch\n",
    "import torch.utils.data\n",
    "from torch import nn\n",
    "from torch.nn import functional as F\n",
    "\n",
    "from ignite.engine import Events, Engine\n",
    "from ignite.metrics import Accuracy, Loss\n",
    "\n",
    "import numpy as np\n",
    "import sklearn.datasets\n",
    "\n",
    "import matplotlib.pyplot as plt\n",
    "import seaborn as sns\n",
    "\n",
    "sns.set()"
   ]
  },
  {
   "cell_type": "code",
   "execution_count": 2,
   "metadata": {},
   "outputs": [],
   "source": [
    "class Model_bilinear(nn.Module):\n",
    "    def __init__(self, features, num_embeddings):\n",
    "        super().__init__()\n",
    "        \n",
    "        self.gamma = 0.99\n",
    "        self.sigma = 0.3\n",
    "        \n",
    "        embedding_size = 10\n",
    "        \n",
    "        self.fc1 = nn.Linear(2, features)\n",
    "        self.fc2 = nn.Linear(features, features)\n",
    "        self.fc3 = nn.Linear(features, features)\n",
    "        \n",
    "        self.W = nn.Parameter(torch.normal(torch.zeros(embedding_size, num_embeddings, features), 1))\n",
    "        \n",
    "        self.register_buffer('N', torch.ones(num_embeddings) * 20)\n",
    "        self.register_buffer('m', torch.normal(torch.zeros(embedding_size, num_embeddings), 1))\n",
    "        \n",
    "        self.m = self.m * self.N.unsqueeze(0)\n",
    "\n",
    "    def embed(self, x):\n",
    "        x = F.relu(self.fc1(x))\n",
    "        x = F.relu(self.fc2(x))\n",
    "        x = self.fc3(x)\n",
    "        \n",
    "        # i is batch, m is embedding_size, n is num_embeddings (classes)\n",
    "        x = torch.einsum('ij,mnj->imn', x, self.W)\n",
    "        \n",
    "        return x\n",
    "\n",
    "    def bilinear(self, z):\n",
    "        embeddings = self.m / self.N.unsqueeze(0)\n",
    "        \n",
    "        diff = z - embeddings.unsqueeze(0)            \n",
    "        #y_pred = (- diff**2).mean(1).div(2 * self.sigma**2).exp()\n",
    "\n",
    "        return diff\n",
    "\n",
    "    def forward(self, x):\n",
    "        z = self.embed(x)\n",
    "        diff = self.bilinear(z)\n",
    "        \n",
    "        return z, diff\n",
    "\n",
    "    def update_embeddings(self, x, y):\n",
    "        z = self.embed(x)\n",
    "        \n",
    "        # normalizing value per class, assumes y is one_hot encoded\n",
    "        self.N = torch.max(self.gamma * self.N + (1 - self.gamma) * y.sum(0), torch.ones_like(self.N))\n",
    "        \n",
    "        # compute sum of embeddings on class by class basis\n",
    "        features_sum = torch.einsum('ijk,ik->jk', z, y)\n",
    "        \n",
    "        self.m = self.gamma * self.m + (1 - self.gamma) * features_sum"
   ]
  },
  {
   "cell_type": "code",
   "execution_count": 3,
   "metadata": {},
   "outputs": [],
   "source": [
    "np.random.seed(0)\n",
    "torch.manual_seed(0)\n",
    "\n",
    "l_gradient_penalty = 1.0\n",
    "\n",
    "# Moons\n",
    "noise = 0.1\n",
    "X_train, y_train = sklearn.datasets.make_moons(n_samples=1500, noise=noise)\n",
    "X_test, y_test = sklearn.datasets.make_moons(n_samples=200, noise=noise)\n",
    "\n",
    "# X_train -= 10\n",
    "# X_test -= 10\n",
    "\n",
    "num_classes = 2\n",
    "batch_size = 64\n",
    "\n",
    "model = Model_bilinear(20, num_classes)\n",
    "\n",
    "optimizer = torch.optim.SGD(model.parameters(), lr=0.01, momentum=0.9, weight_decay=1e-4)\n",
    "\n",
    "\n",
    "def calc_gradient_penalty(x, y_pred):\n",
    "    gradients = torch.autograd.grad(\n",
    "            outputs=y_pred,\n",
    "            inputs=x,\n",
    "            grad_outputs=torch.ones_like(y_pred),\n",
    "            create_graph=True,\n",
    "        )[0]\n",
    "\n",
    "\n",
    "    gradients = gradients.flatten(start_dim=1)\n",
    "    \n",
    "    # L2 norm\n",
    "    grad_norm = gradients.norm(2, dim=1)\n",
    "\n",
    "    # Two sided penalty\n",
    "    gradient_penalty = ((grad_norm - 1) ** 2).mean()\n",
    "    \n",
    "    # One sided penalty - down\n",
    "#     gradient_penalty = F.relu(grad_norm - 1).mean()\n",
    "\n",
    "    return gradient_penalty\n",
    "\n",
    "\n",
    "def output_transform_acc(output):\n",
    "    y_pred, y, x, z = output\n",
    "    \n",
    "    y = torch.argmax(y, dim=1)\n",
    "        \n",
    "    return y_pred, y\n",
    "\n",
    "\n",
    "def output_transform_bce(output):\n",
    "    y_pred, y, x, z = output\n",
    "\n",
    "    return y_pred, y\n",
    "\n",
    "\n",
    "def output_transform_gp(output):\n",
    "    y_pred, y, x, z = output\n",
    "\n",
    "    return x, y_pred\n",
    "\n",
    "\n",
    "def step(engine, batch):\n",
    "    model.train()\n",
    "    optimizer.zero_grad()\n",
    "    \n",
    "    x, y = batch\n",
    "    x.requires_grad_(True)\n",
    "    \n",
    "    z, diff = model(x)\n",
    "    y_pred = (- diff**2).mean(1).div(2 * 0.3**2).exp()\n",
    "    \n",
    "    \n",
    "    loss1 =  F.binary_cross_entropy(y_pred, y)\n",
    "    loss2 = l_gradient_penalty * calc_gradient_penalty(x, y_pred)\n",
    "    \n",
    "    loss = loss1 + loss2\n",
    "    \n",
    "    loss.backward()\n",
    "    optimizer.step()\n",
    "    \n",
    "    with torch.no_grad():\n",
    "        model.update_embeddings(x, y)\n",
    "    \n",
    "    return loss.item()\n",
    "\n",
    "\n",
    "def eval_step(engine, batch):\n",
    "    model.eval()\n",
    "\n",
    "    x, y = batch\n",
    "\n",
    "    x.requires_grad_(True)\n",
    "\n",
    "    z, diff = model(x)\n",
    "    y_pred = (- diff**2).mean(1).div(2 * 0.3**2).exp()\n",
    "\n",
    "    return y_pred, y, x, z\n",
    "    \n",
    "\n",
    "trainer = Engine(step)\n",
    "evaluator = Engine(eval_step)\n",
    "\n",
    "metric = Accuracy(output_transform=output_transform_acc)\n",
    "metric.attach(evaluator, \"accuracy\")\n",
    "\n",
    "metric = Loss(F.binary_cross_entropy, output_transform=output_transform_bce)\n",
    "metric.attach(evaluator, \"bce\")\n",
    "\n",
    "metric = Loss(calc_gradient_penalty, output_transform=output_transform_gp)\n",
    "metric.attach(evaluator, \"gp\")\n",
    "\n",
    "\n",
    "ds_train = torch.utils.data.TensorDataset(torch.from_numpy(X_train).float(), F.one_hot(torch.from_numpy(y_train)).float())\n",
    "dl_train = torch.utils.data.DataLoader(ds_train, batch_size=batch_size, shuffle=True, drop_last=True)\n",
    "\n",
    "ds_test = torch.utils.data.TensorDataset(torch.from_numpy(X_test).float(), F.one_hot(torch.from_numpy(y_test)).float())\n",
    "dl_test = torch.utils.data.DataLoader(ds_test, batch_size=200, shuffle=False)\n",
    "\n",
    "@trainer.on(Events.EPOCH_COMPLETED)\n",
    "def log_results(trainer):\n",
    "    evaluator.run(dl_test)\n",
    "    metrics = evaluator.state.metrics\n",
    "\n",
    "    print(\"Test Results - Epoch: {} Acc: {:.4f} BCE: {:.2f} GP {:.2f}\"\n",
    "          .format(trainer.state.epoch, metrics['accuracy'], metrics['bce'], metrics['gp']))"
   ]
  },
  {
   "cell_type": "code",
   "execution_count": 4,
   "metadata": {
    "scrolled": false
   },
   "outputs": [
    {
     "name": "stdout",
     "output_type": "stream",
     "text": [
      "Test Results - Epoch: 1 Acc: 0.8350 BCE: 0.47 GP 0.21\n",
      "Test Results - Epoch: 2 Acc: 0.8750 BCE: 0.36 GP 0.12\n",
      "Test Results - Epoch: 3 Acc: 0.9100 BCE: 0.29 GP 0.06\n",
      "Test Results - Epoch: 4 Acc: 0.9400 BCE: 0.25 GP 0.05\n",
      "Test Results - Epoch: 5 Acc: 0.9700 BCE: 0.18 GP 0.09\n",
      "Test Results - Epoch: 6 Acc: 0.9900 BCE: 0.14 GP 0.05\n",
      "Test Results - Epoch: 7 Acc: 0.9950 BCE: 0.13 GP 0.06\n",
      "Test Results - Epoch: 8 Acc: 0.9900 BCE: 0.12 GP 0.03\n",
      "Test Results - Epoch: 9 Acc: 0.9950 BCE: 0.10 GP 0.03\n",
      "Test Results - Epoch: 10 Acc: 0.9950 BCE: 0.10 GP 0.03\n",
      "Test Results - Epoch: 11 Acc: 0.9950 BCE: 0.11 GP 0.03\n",
      "Test Results - Epoch: 12 Acc: 0.9950 BCE: 0.10 GP 0.03\n",
      "Test Results - Epoch: 13 Acc: 0.9950 BCE: 0.10 GP 0.02\n",
      "Test Results - Epoch: 14 Acc: 0.9950 BCE: 0.11 GP 0.03\n",
      "Test Results - Epoch: 15 Acc: 0.9950 BCE: 0.10 GP 0.03\n",
      "Test Results - Epoch: 16 Acc: 1.0000 BCE: 0.09 GP 0.05\n",
      "Test Results - Epoch: 17 Acc: 0.9950 BCE: 0.09 GP 0.04\n",
      "Test Results - Epoch: 18 Acc: 0.9950 BCE: 0.10 GP 0.03\n",
      "Test Results - Epoch: 19 Acc: 0.9950 BCE: 0.08 GP 0.04\n",
      "Test Results - Epoch: 20 Acc: 1.0000 BCE: 0.09 GP 0.02\n",
      "Test Results - Epoch: 21 Acc: 0.9950 BCE: 0.09 GP 0.03\n",
      "Test Results - Epoch: 22 Acc: 0.9950 BCE: 0.09 GP 0.03\n",
      "Test Results - Epoch: 23 Acc: 1.0000 BCE: 0.09 GP 0.03\n",
      "Test Results - Epoch: 24 Acc: 1.0000 BCE: 0.08 GP 0.02\n",
      "Test Results - Epoch: 25 Acc: 0.9950 BCE: 0.09 GP 0.03\n",
      "Test Results - Epoch: 26 Acc: 1.0000 BCE: 0.09 GP 0.03\n",
      "Test Results - Epoch: 27 Acc: 1.0000 BCE: 0.11 GP 0.03\n",
      "Test Results - Epoch: 28 Acc: 0.9950 BCE: 0.09 GP 0.03\n",
      "Test Results - Epoch: 29 Acc: 1.0000 BCE: 0.09 GP 0.03\n",
      "Test Results - Epoch: 30 Acc: 1.0000 BCE: 0.08 GP 0.03\n"
     ]
    },
    {
     "data": {
      "text/plain": [
       "State:\n",
       "\titeration: 690\n",
       "\tepoch: 30\n",
       "\tepoch_length: 23\n",
       "\tmax_epochs: 30\n",
       "\toutput: 0.10658571124076843\n",
       "\tbatch: <class 'list'>\n",
       "\tmetrics: <class 'dict'>\n",
       "\tdataloader: <class 'torch.utils.data.dataloader.DataLoader'>\n",
       "\tseed: <class 'NoneType'>\n",
       "\ttimes: <class 'dict'>"
      ]
     },
     "execution_count": 4,
     "metadata": {},
     "output_type": "execute_result"
    }
   ],
   "source": [
    "trainer.run(dl_train, max_epochs=30)"
   ]
  },
  {
   "cell_type": "code",
   "execution_count": 5,
   "metadata": {},
   "outputs": [],
   "source": [
    "torch.save(model.state_dict(), 'two_moons_std.pth')"
   ]
  },
  {
   "cell_type": "code",
   "execution_count": 6,
   "metadata": {},
   "outputs": [
    {
     "name": "stdout",
     "output_type": "stream",
     "text": [
      "W\n",
      "fc1_input_scale_0\n",
      "fc1_input_zero_point_0\n",
      "_tensor_constant0\n",
      "fc1.scale\n",
      "fc1.zero_point\n",
      "fc1._packed_params.dtype\n",
      "fc1._packed_params._packed_params\n",
      "fc2.scale\n",
      "fc2.zero_point\n",
      "fc2._packed_params.dtype\n",
      "fc2._packed_params._packed_params\n",
      "fc3.scale\n",
      "fc3.zero_point\n",
      "fc3._packed_params.dtype\n",
      "fc3._packed_params._packed_params\n",
      "GraphModule(\n",
      "  (fc1): QuantizedLinearReLU(in_features=2, out_features=20, scale=0.012785964645445347, zero_point=0, qscheme=torch.per_channel_affine)\n",
      "  (fc2): QuantizedLinearReLU(in_features=20, out_features=20, scale=0.006874776445329189, zero_point=0, qscheme=torch.per_channel_affine)\n",
      "  (fc3): QuantizedLinear(in_features=20, out_features=20, scale=0.01663178578019142, zero_point=77, qscheme=torch.per_channel_affine)\n",
      ")\n",
      "\n",
      "\n",
      "\n",
      "def forward(self, x):\n",
      "    fc1_input_scale_0 = self.fc1_input_scale_0\n",
      "    fc1_input_zero_point_0 = self.fc1_input_zero_point_0\n",
      "    quantize_per_tensor = torch.quantize_per_tensor(x, fc1_input_scale_0, fc1_input_zero_point_0, torch.quint8);  x = fc1_input_scale_0 = fc1_input_zero_point_0 = None\n",
      "    fc1 = self.fc1(quantize_per_tensor);  quantize_per_tensor = None\n",
      "    fc2 = self.fc2(fc1);  fc1 = None\n",
      "    fc3 = self.fc3(fc2);  fc2 = None\n",
      "    dequantize_3 = fc3.dequantize();  fc3 = None\n",
      "    w = self.W\n",
      "    einsum = torch.functional.einsum('ij,mnj->imn', dequantize_3, w);  dequantize_3 = w = None\n",
      "    _tensor_constant0 = self._tensor_constant0\n",
      "    sub = einsum - _tensor_constant0;  _tensor_constant0 = None\n",
      "    return (einsum, sub)\n",
      "    \n",
      "# To see more debug info, please use `graph_module.print_readable()`\n"
     ]
    },
    {
     "name": "stderr",
     "output_type": "stream",
     "text": [
      "/opt/conda/lib/python3.10/site-packages/torch/ao/quantization/fx/prepare.py:1536: UserWarning: Passing a QConfig dictionary to prepare is deprecated and will not be supported in a future version. Please pass in a QConfigMapping instead.\n",
      "  warnings.warn(\n",
      "/opt/conda/lib/python3.10/site-packages/torch/ao/quantization/observer.py:214: UserWarning: Please use quant_min and quant_max to specify the range for observers.                     reduce_range will be deprecated in a future release of PyTorch.\n",
      "  warnings.warn(\n"
     ]
    }
   ],
   "source": [
    "import copy\n",
    "from torch.quantization import quantize_fx\n",
    "\n",
    "quantise = True\n",
    "if quantise:\n",
    "    dataiter = iter(dl_train)\n",
    "    images, labels = next(dataiter)\n",
    "\n",
    "    m = copy.deepcopy(model)\n",
    "    m.to(\"cpu\")\n",
    "    m.eval()\n",
    "    qconfig_dict = {\"\": torch.quantization.get_default_qconfig(\"fbgemm\")}\n",
    "    model_prepared = quantize_fx.prepare_fx(m, qconfig_dict, images)\n",
    "\n",
    "    with torch.inference_mode():\n",
    "        for _ in range(10):\n",
    "            images, labels = next(dataiter)\n",
    "            model_prepared(images)\n",
    "    model_quantized = quantize_fx.convert_fx(model_prepared)\n",
    "    \n",
    "    \n",
    "state_dict = model_quantized.state_dict()\n",
    "for name, value in state_dict.items():\n",
    "    print(name)\n",
    "print(model_quantized)"
   ]
  },
  {
   "cell_type": "code",
   "execution_count": 7,
   "metadata": {},
   "outputs": [],
   "source": [
    "torch.save(model_quantized.state_dict(), 'two_moons_quant.pth')"
   ]
  },
  {
   "cell_type": "code",
   "execution_count": 8,
   "metadata": {},
   "outputs": [
    {
     "data": {
      "text/plain": [
       "<All keys matched successfully>"
      ]
     },
     "execution_count": 8,
     "metadata": {},
     "output_type": "execute_result"
    }
   ],
   "source": [
    "class bilin(nn.Module):\n",
    "    def __init__(self, features, num_embeddings):\n",
    "        super().__init__()\n",
    "        \n",
    "        self.gamma = 0.99\n",
    "        self.sigma = 0.3\n",
    "        \n",
    "        embedding_size = 10\n",
    "        \n",
    "        self.fc1 = nn.Linear(2, features)\n",
    "        self.fc2 = nn.Linear(features, features)\n",
    "        self.fc3 = nn.Linear(features, features)\n",
    "        \n",
    "        self.W = nn.Parameter(torch.normal(torch.zeros(embedding_size, num_embeddings, features), 1))\n",
    "        \n",
    "        self.register_buffer('N', torch.ones(num_embeddings) * 20)\n",
    "        self.register_buffer('m', torch.normal(torch.zeros(embedding_size, num_embeddings), 1))\n",
    "        \n",
    "        self.m = self.m * self.N.unsqueeze(0)\n",
    "\n",
    "    def embed(self, x):\n",
    "        x = F.relu(self.fc1(x))\n",
    "        x = F.relu(self.fc2(x))\n",
    "        x = self.fc3(x)\n",
    "        \n",
    "        x = torch.einsum('ij,mnj->imn', x, self.W)\n",
    "        \n",
    "        return x\n",
    "\n",
    "    def bilinear(self, z):\n",
    "        embeddings = self.m / self.N.unsqueeze(0)\n",
    "        diff = z - embeddings.unsqueeze(0)            \n",
    "        return diff\n",
    "\n",
    "    def forward(self, x):\n",
    "        z = self.embed(x)\n",
    "        diff = self.bilinear(z)\n",
    "        return z, diff\n",
    "\n",
    "    def update_embeddings(self, x, y):\n",
    "        z = self.embed(x)\n",
    "        \n",
    "        self.N = torch.max(self.gamma * self.N + (1 - self.gamma) * y.sum(0), torch.ones_like(self.N))\n",
    "        \n",
    "        features_sum = torch.einsum('ijk,ik->jk', z, y)\n",
    "        \n",
    "        self.m = self.gamma * self.m + (1 - self.gamma) * features_sum\n",
    "        \n",
    "        \n",
    "model = bilin(20, num_classes)\n",
    "model.load_state_dict(torch.load('two_moons_std.pth'))  "
   ]
  },
  {
   "cell_type": "code",
   "execution_count": 9,
   "metadata": {},
   "outputs": [
    {
     "name": "stderr",
     "output_type": "stream",
     "text": [
      "/tmp/ipykernel_14535/1294061587.py:11: DeprecationWarning: `np.bool` is a deprecated alias for the builtin `bool`. To silence this warning, use `bool` by itself. Doing this will not modify any behavior and is safe. If you specifically wanted the numpy scalar type, use `np.bool_` here.\n",
      "Deprecated in NumPy 1.20; for more details and guidance: https://numpy.org/devdocs/release/1.20.0-notes.html#deprecations\n",
      "  mask = y_vis.astype(np.bool)\n"
     ]
    },
    {
     "data": {
      "text/plain": [
       "<matplotlib.collections.PathCollection at 0x7f8c7ceab250>"
      ]
     },
     "execution_count": 9,
     "metadata": {},
     "output_type": "execute_result"
    },
    {
     "data": {
      "image/png": "[encoded data removed]",
      "text/plain": [
       "<Figure size 640x480 with 2 Axes>"
      ]
     },
     "metadata": {},
     "output_type": "display_data"
    }
   ],
   "source": [
    "domain = 13\n",
    "x_lin = np.linspace(-domain+0.5, domain+0.5, 100)\n",
    "y_lin = np.linspace(-domain, domain, 100)\n",
    "\n",
    "xx, yy = np.meshgrid(x_lin, y_lin)\n",
    "\n",
    "X_grid = np.column_stack([xx.flatten(), yy.flatten()])\n",
    "\n",
    "X_vis, y_vis = sklearn.datasets.make_moons(n_samples=1000, noise=noise)\n",
    "#X_vis -= 10\n",
    "mask = y_vis.astype(np.bool)\n",
    "\n",
    "\n",
    "\n",
    "with torch.no_grad():\n",
    "    z, diff = model(torch.from_numpy(X_grid).float())\n",
    "    output = (- diff**2).median(1)[0].div(2 * 0.3**2).exp()\n",
    "    confidence = output.max(1)[0].numpy()\n",
    "z = confidence.reshape(xx.shape)\n",
    "#plt.figure()\n",
    "fig1, ax2 = plt.subplots(layout='constrained')\n",
    "CS = ax2.contourf(x_lin, y_lin, z, cmap='cividis')\n",
    "# Make a colorbar for the ContourSet returned by the contourf call.\n",
    "cbar = fig1.colorbar(CS)\n",
    "cbar.ax.set_ylabel('uncertainty values')\n",
    "ax2.scatter(X_vis[mask,0], X_vis[mask,1], alpha=0.01)\n",
    "ax2.scatter(X_vis[~mask,0], X_vis[~mask,1], alpha=0.01)"
   ]
  },
  {
   "cell_type": "code",
   "execution_count": 10,
   "metadata": {},
   "outputs": [
    {
     "name": "stdout",
     "output_type": "stream",
     "text": [
      "W\n",
      "fc1_input_scale_0\n",
      "fc1_input_zero_point_0\n",
      "_tensor_constant0\n",
      "fc1.scale\n",
      "fc1.zero_point\n",
      "fc1._packed_params.dtype\n",
      "fc1._packed_params._packed_params\n",
      "fc2.scale\n",
      "fc2.zero_point\n",
      "fc2._packed_params.dtype\n",
      "fc2._packed_params._packed_params\n",
      "fc3.scale\n",
      "fc3.zero_point\n",
      "fc3._packed_params.dtype\n",
      "fc3._packed_params._packed_params\n",
      "GraphModule(\n",
      "  (fc1): QuantizedLinearReLU(in_features=2, out_features=20, scale=0.012941916473209858, zero_point=0, qscheme=torch.per_channel_affine)\n",
      "  (fc2): QuantizedLinearReLU(in_features=20, out_features=20, scale=0.006707231048494577, zero_point=0, qscheme=torch.per_channel_affine)\n",
      "  (fc3): QuantizedLinear(in_features=20, out_features=20, scale=0.01656913384795189, zero_point=77, qscheme=torch.per_channel_affine)\n",
      ")\n",
      "\n",
      "\n",
      "\n",
      "def forward(self, x):\n",
      "    fc1_input_scale_0 = self.fc1_input_scale_0\n",
      "    fc1_input_zero_point_0 = self.fc1_input_zero_point_0\n",
      "    quantize_per_tensor = torch.quantize_per_tensor(x, fc1_input_scale_0, fc1_input_zero_point_0, torch.quint8);  x = fc1_input_scale_0 = fc1_input_zero_point_0 = None\n",
      "    fc1 = self.fc1(quantize_per_tensor);  quantize_per_tensor = None\n",
      "    fc2 = self.fc2(fc1);  fc1 = None\n",
      "    fc3 = self.fc3(fc2);  fc2 = None\n",
      "    dequantize_3 = fc3.dequantize();  fc3 = None\n",
      "    w = self.W\n",
      "    einsum = torch.functional.einsum('ij,mnj->imn', dequantize_3, w);  dequantize_3 = w = None\n",
      "    _tensor_constant0 = self._tensor_constant0\n",
      "    sub = einsum - _tensor_constant0;  _tensor_constant0 = None\n",
      "    return (einsum, sub)\n",
      "    \n",
      "# To see more debug info, please use `graph_module.print_readable()`\n"
     ]
    },
    {
     "name": "stderr",
     "output_type": "stream",
     "text": [
      "/opt/conda/lib/python3.10/site-packages/torch/_utils.py:335: UserWarning: TypedStorage is deprecated. It will be removed in the future and UntypedStorage will be the only storage class. This should only matter to you if you are using storages directly.  To access UntypedStorage directly, use tensor.untyped_storage() instead of tensor.storage()\n",
      "  device=storage.device,\n"
     ]
    },
    {
     "data": {
      "text/plain": [
       "<All keys matched successfully>"
      ]
     },
     "execution_count": 10,
     "metadata": {},
     "output_type": "execute_result"
    }
   ],
   "source": [
    "quantise = True\n",
    "if quantise:\n",
    "    dataiter = iter(dl_train)\n",
    "    images, labels = next(dataiter)\n",
    "    m = copy.deepcopy(model)\n",
    "    m.to(\"cpu\")\n",
    "    m.eval()\n",
    "    qconfig_dict = {\"\": torch.quantization.get_default_qconfig(\"fbgemm\")}\n",
    "    model_prepared = quantize_fx.prepare_fx(m, qconfig_dict, images)\n",
    "\n",
    "    with torch.inference_mode():\n",
    "        for _ in range(10):\n",
    "            images, labels = next(dataiter)\n",
    "            model_prepared(images)\n",
    "    model_quantized = quantize_fx.convert_fx(model_prepared)\n",
    "    \n",
    "    \n",
    "state_dict = model_quantized.state_dict()\n",
    "for name, value in state_dict.items():\n",
    "    print(name)\n",
    "print(model_quantized)\n",
    "model_quantized.load_state_dict(torch.load('two_moons_quant.pth'))"
   ]
  },
  {
   "cell_type": "code",
   "execution_count": 11,
   "metadata": {},
   "outputs": [
    {
     "name": "stderr",
     "output_type": "stream",
     "text": [
      "/tmp/ipykernel_14535/3572517744.py:13: DeprecationWarning: `np.bool` is a deprecated alias for the builtin `bool`. To silence this warning, use `bool` by itself. Doing this will not modify any behavior and is safe. If you specifically wanted the numpy scalar type, use `np.bool_` here.\n",
      "Deprecated in NumPy 1.20; for more details and guidance: https://numpy.org/devdocs/release/1.20.0-notes.html#deprecations\n",
      "  mask = y_vis.astype(np.bool)\n"
     ]
    },
    {
     "data": {
      "text/plain": [
       "<matplotlib.collections.PathCollection at 0x7f8c7cb9e320>"
      ]
     },
     "execution_count": 11,
     "metadata": {},
     "output_type": "execute_result"
    },
    {
     "data": {
      "image/png": "[encoded data removed]",
      "text/plain": [
       "<Figure size 640x480 with 2 Axes>"
      ]
     },
     "metadata": {},
     "output_type": "display_data"
    }
   ],
   "source": [
    "domain = 13\n",
    "x_lin = np.linspace(-domain+0.5, domain+0.5, 100)\n",
    "y_lin = np.linspace(-domain, domain, 100)\n",
    "\n",
    "xx, yy = np.meshgrid(x_lin, y_lin)\n",
    "\n",
    "X_grid = np.column_stack([xx.flatten(), yy.flatten()])\n",
    "\n",
    "\n",
    "\n",
    "X_vis, y_vis = sklearn.datasets.make_moons(n_samples=1000, noise=noise)\n",
    "#X_vis -= 10\n",
    "mask = y_vis.astype(np.bool)\n",
    "\n",
    "with torch.no_grad():\n",
    "    z, diff = model_quantized(torch.from_numpy(X_grid).float())\n",
    "    output = (- diff**2).median(1)[0].div(2 * 0.3**2).exp()\n",
    "    confidence = output.max(1)[0].numpy()\n",
    "\n",
    "\n",
    "z = confidence.reshape(xx.shape)\n",
    "\n",
    "fig1, ax2 = plt.subplots(layout='constrained')\n",
    "CS = ax2.contourf(x_lin, y_lin, z, cmap='cividis')\n",
    "\n",
    "cbar = fig1.colorbar(CS)\n",
    "cbar.ax.set_ylabel('uncertainty values')\n",
    "\n",
    "plt.scatter(X_vis[mask,0], X_vis[mask,1], alpha=0.01)\n",
    "plt.scatter(X_vis[~mask,0], X_vis[~mask,1], alpha=0.01)"
   ]
  },
  {
   "cell_type": "code",
   "execution_count": 6,
   "metadata": {},
   "outputs": [
    {
     "data": {
      "text/plain": [
       "1.1920929e-07"
      ]
     },
     "execution_count": 6,
     "metadata": {},
     "output_type": "execute_result"
    }
   ],
   "source": [
    "import numpy as np\n",
    "np.finfo(np.float32).eps"
   ]
  },
  {
   "cell_type": "code",
   "execution_count": null,
   "metadata": {},
   "outputs": [],
   "source": []
  }
 ],
 "metadata": {
  "kernelspec": {
   "display_name": "Python 3 (ipykernel)",
   "language": "python",
   "name": "python3"
  },
  "language_info": {
   "codemirror_mode": {
    "name": "ipython",
    "version": 3
   },
   "file_extension": ".py",
   "mimetype": "text/x-python",
   "name": "python",
   "nbconvert_exporter": "python",
   "pygments_lexer": "ipython3",
   "version": "3.10.10"
  }
 },
 "nbformat": 4,
 "nbformat_minor": 2
}
