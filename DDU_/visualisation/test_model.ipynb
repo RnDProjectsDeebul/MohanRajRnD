{
 "cells": [
  {
   "cell_type": "code",
   "execution_count": 1,
   "id": "a2c4058e",
   "metadata": {},
   "outputs": [],
   "source": [
    "import torch\n",
    "import torch.utils.data\n",
    "from torch import nn\n",
    "from torch.nn import functional as F\n",
    "\n",
    "from ignite.engine import Events, Engine\n",
    "from ignite.metrics import Accuracy, Loss\n",
    "\n",
    "import numpy as np\n",
    "import sklearn.datasets\n",
    "\n",
    "import matplotlib.pyplot as plt\n",
    "import seaborn as sns\n",
    "\n",
    "sns.set()"
   ]
  },
  {
   "cell_type": "code",
   "execution_count": 2,
   "id": "86c97c45",
   "metadata": {},
   "outputs": [],
   "source": [
    "noise = 0.1\n",
    "X_train, y_train = sklearn.datasets.make_moons(n_samples=1500, noise=noise)\n",
    "X_test, y_test = sklearn.datasets.make_moons(n_samples=200, noise=noise)\n",
    "ds_train = torch.utils.data.TensorDataset(torch.from_numpy(X_train).float(), F.one_hot(torch.from_numpy(y_train)).float())\n",
    "dl_train = torch.utils.data.DataLoader(ds_train, batch_size=64, shuffle=True, drop_last=True)"
   ]
  },
  {
   "cell_type": "code",
   "execution_count": 3,
   "id": "843accc6",
   "metadata": {},
   "outputs": [
    {
     "name": "stdout",
     "output_type": "stream",
     "text": [
      "------------\n",
      "fc1.weight\n",
      "fc1.bias\n",
      "fc2.weight\n",
      "fc2.bias\n",
      "fc3.weight\n",
      "fc3.bias\n"
     ]
    }
   ],
   "source": [
    "class Network(nn.Module):\n",
    "    def __init__(self, features):\n",
    "        super().__init__()\n",
    "        \n",
    "        self.fc1 = nn.Linear(2, features)\n",
    "        self.fc2 = nn.Linear(features, features)\n",
    "        self.fc3 = nn.Linear(features, features)\n",
    "        \n",
    "    def forward(self, x):\n",
    "        x = F.relu(self.fc1(x))\n",
    "        x = F.relu(self.fc2(x))\n",
    "        x = self.fc3(x)\n",
    "        \n",
    "Net = Network(20)\n",
    "for name, param in Net.named_buffers():\n",
    "    print(name)\n",
    "print(\"------------\")\n",
    "state_dict = Net.state_dict()\n",
    "for name, value in state_dict.items():\n",
    "    print(name)"
   ]
  },
  {
   "cell_type": "code",
   "execution_count": 4,
   "id": "fd11f369",
   "metadata": {},
   "outputs": [
    {
     "name": "stdout",
     "output_type": "stream",
     "text": [
      "-----------\n"
     ]
    },
    {
     "name": "stderr",
     "output_type": "stream",
     "text": [
      "/opt/conda/lib/python3.10/site-packages/torch/ao/quantization/fx/prepare.py:1530: UserWarning: Passing a QConfig dictionary to prepare is deprecated and will not be supported in a future version. Please pass in a QConfigMapping instead.\n",
      "  warnings.warn(\n",
      "/opt/conda/lib/python3.10/site-packages/torch/ao/quantization/observer.py:214: UserWarning: Please use quant_min and quant_max to specify the range for observers.                     reduce_range will be deprecated in a future release of PyTorch.\n",
      "  warnings.warn(\n"
     ]
    }
   ],
   "source": [
    "import copy\n",
    "from torch.quantization import quantize_fx\n",
    "\n",
    "quantise = True\n",
    "if quantise:\n",
    "    dataiter = iter(dl_train)\n",
    "    images, labels = next(dataiter)\n",
    "\n",
    "    m = copy.deepcopy(Net)\n",
    "    m.to(\"cpu\")\n",
    "    m.eval()\n",
    "    qconfig_dict = {\"\": torch.quantization.get_default_qconfig(\"fbgemm\")}\n",
    "    model_prep = quantize_fx.prepare_fx(m, qconfig_dict, images)\n",
    "\n",
    "    with torch.inference_mode():\n",
    "        for _ in range(10):\n",
    "            images, labels = next(dataiter)\n",
    "            model_prep(images)\n",
    "    model_quant = quantize_fx.convert_fx(model_prep)\n",
    "    \n",
    "for name, param in model_quant.named_buffers():\n",
    "    print(name)\n",
    "    \n",
    "for name, param in model_quant.named_parameters():\n",
    "    print(name)\n",
    "print(\"-----------\")\n",
    "state_dict = model_quant.state_dict()\n",
    "for name, value in state_dict.items():\n",
    "    print(name)"
   ]
  },
  {
   "cell_type": "code",
   "execution_count": null,
   "id": "db73a387",
   "metadata": {},
   "outputs": [],
   "source": []
  }
 ],
 "metadata": {
  "kernelspec": {
   "display_name": "Python 3 (ipykernel)",
   "language": "python",
   "name": "python3"
  },
  "language_info": {
   "codemirror_mode": {
    "name": "ipython",
    "version": 3
   },
   "file_extension": ".py",
   "mimetype": "text/x-python",
   "name": "python",
   "nbconvert_exporter": "python",
   "pygments_lexer": "ipython3",
   "version": "3.10.10"
  }
 },
 "nbformat": 4,
 "nbformat_minor": 5
}
