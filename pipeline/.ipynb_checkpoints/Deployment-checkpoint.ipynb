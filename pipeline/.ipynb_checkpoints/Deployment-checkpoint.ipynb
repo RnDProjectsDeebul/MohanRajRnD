{
 "cells": [
  {
   "cell_type": "code",
   "execution_count": 1,
   "id": "d64d0ea5",
   "metadata": {},
   "outputs": [
    {
     "name": "stdout",
     "output_type": "stream",
     "text": [
      "Files already downloaded and verified\n",
      "Files already downloaded and verified\n",
      "============= Diagnostic Run torch.onnx.export version 2.0.1+cu117 =============\n",
      "verbose: False, log level: Level.ERROR\n",
      "======================= 0 NONE 0 NOTE 0 WARNING 0 ERROR ========================\n",
      "\n",
      "Downloading ../../results/ONNX/DUQ_ResNet_DUQ_model.blob/DUQ_ResNet_DUQ_model_sim_openvino_2022.1_6shave.blob...\n",
      "[=====================================             ]"
     ]
    },
    {
     "name": "stderr",
     "output_type": "stream",
     "text": [
      "IOPub data rate exceeded.\n",
      "The notebook server will temporarily stop sending output\n",
      "to the client in order to avoid crashing it.\n",
      "To change this limit, set the config variable\n",
      "`--NotebookApp.iopub_data_rate_limit`.\n",
      "\n",
      "Current values:\n",
      "NotebookApp.iopub_data_rate_limit=1000000.0 (bytes/sec)\n",
      "NotebookApp.rate_limit_window=3.0 (secs)\n",
      "\n"
     ]
    }
   ],
   "source": [
    "from helpers import get_model\n",
    "from data import import_data\n",
    "import torch\n",
    "\n",
    "\n",
    "root_dir = '../../results/'\n",
    "data_dir = '../../data'\n",
    "\n",
    "parameters = {\n",
    "                #'dataset': \"MNIST\",\n",
    "                'dataset': \"CIFAR10\", \n",
    "\n",
    "\n",
    "                #'model_name':'LeNet',\n",
    "                #'model_name':'Resnet18',\n",
    "\n",
    "                #'loss_function': 'Crossentropy',\n",
    "                #'loss_function':'Evidential_LOG',\n",
    "                #'loss_function':'Evidential_DIGAMMA',\n",
    "\n",
    "\n",
    "                #'model_name':'LeNet_DUQ',\n",
    "                'model_name':'ResNet_DUQ',\n",
    "                'loss_function': 'DUQ',\n",
    "                }\n",
    "\n",
    "\n",
    "model_path = str(root_dir)+str(parameters['loss_function'])+'_'+str(parameters['model_name'])+'_model.pth'\n",
    "model = get_model(parameters['model_name'],num_classes=10,weights=None)\n",
    "model.load_state_dict(torch.load(model_path))  \n",
    "\n",
    "dataloader, class_names = import_data(parameters['dataset'], data_dir, 128, 128)\n",
    "dataiter = iter(dataloader['train'])\n",
    "images, labels = next(dataiter)\n",
    "    \n",
    "torch.onnx.export(\n",
    "    model,\n",
    "    images,\n",
    "    root_dir+\"ONNX/\"+str(parameters['loss_function'])+'_'+str(parameters['model_name'])+'_model.onnx',\n",
    "    opset_version=12,\n",
    "    do_constant_folding=True,\n",
    ")\n",
    "\n",
    "import onnx\n",
    "from onnxsim import simplify\n",
    "\n",
    "onnx_model = onnx.load(root_dir+\"ONNX/\"+str(parameters['loss_function'])+'_'+str(parameters['model_name'])+'_model.onnx')\n",
    "model_simpified, check = simplify(onnx_model)\n",
    "onnx.save(model_simpified, root_dir+\"ONNX/\"+str(parameters['loss_function'])+'_'+str(parameters['model_name'])+'_model_sim.onnx')\n",
    "\n",
    "import blobconverter\n",
    "\n",
    "blobconverter.from_onnx(\n",
    "    model=root_dir+\"ONNX/\"+str(parameters['loss_function'])+'_'+str(parameters['model_name'])+'_model_sim.onnx',\n",
    "    output_dir=root_dir+\"ONNX/\"+str(parameters['loss_function'])+'_'+str(parameters['model_name'])+'_model.blob',\n",
    "    data_type=\"FP16\",\n",
    "    shaves=6,\n",
    "    use_cache=False,\n",
    "    optimizer_params=[]\n",
    ")"
   ]
  }
 ],
 "metadata": {
  "kernelspec": {
   "display_name": "Python 3 (ipykernel)",
   "language": "python",
   "name": "python3"
  },
  "language_info": {
   "codemirror_mode": {
    "name": "ipython",
    "version": 3
   },
   "file_extension": ".py",
   "mimetype": "text/x-python",
   "name": "python",
   "nbconvert_exporter": "python",
   "pygments_lexer": "ipython3",
   "version": "3.10.10"
  }
 },
 "nbformat": 4,
 "nbformat_minor": 5
}
