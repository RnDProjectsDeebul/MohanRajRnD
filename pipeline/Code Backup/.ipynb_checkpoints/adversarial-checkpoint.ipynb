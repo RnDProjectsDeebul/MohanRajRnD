{
 "cells": [
  {
   "cell_type": "code",
   "execution_count": 1,
   "metadata": {
    "colab": {},
    "colab_type": "code",
    "id": "EoSl-i8TVC_t"
   },
   "outputs": [],
   "source": [
    "import foolbox as fb"
   ]
  },
  {
   "cell_type": "code",
   "execution_count": 2,
   "metadata": {
    "colab": {},
    "colab_type": "code",
    "id": "_kdF_DVFVSr0"
   },
   "outputs": [],
   "source": [
    "import torch\n",
    "import torchvision"
   ]
  },
  {
   "cell_type": "code",
   "execution_count": 3,
   "metadata": {
    "colab": {
     "base_uri": "https://localhost:8080/",
     "height": 0
    },
    "colab_type": "code",
    "id": "zFQLEepCVo-V",
    "outputId": "4701ee1a-dac6-4f62-8160-376922266e40"
   },
   "outputs": [
    {
     "data": {
      "text/plain": [
       "True"
      ]
     },
     "execution_count": 3,
     "metadata": {},
     "output_type": "execute_result"
    }
   ],
   "source": [
    "torch.cuda.is_available()"
   ]
  },
  {
   "cell_type": "code",
   "execution_count": 4,
   "metadata": {
    "colab": {
     "base_uri": "https://localhost:8080/",
     "height": 0,
     "referenced_widgets": [
      "6a6127cafbaf435e895b8aecc29e1d5b",
      "8138122202424470ae69a2a51b96a323",
      "4ef7908156304a08bed88b37f7a819d3",
      "dc984818c51f4987a1c7069e423190c0",
      "18f2b11015404be0b753a51867a30c44",
      "4741f7d77b9343ad88cc5901bf4ebb6e",
      "6f6b8e23dc21497fa813c8b22ad0a08e",
      "d609671ca13e47a78141f54c4b7bf8a1"
     ]
    },
    "colab_type": "code",
    "id": "S0ITh00mVePh",
    "outputId": "aa8868b6-7200-4311-8dd6-a4019bb0de68"
   },
   "outputs": [
    {
     "name": "stderr",
     "output_type": "stream",
     "text": [
      "/opt/conda/lib/python3.10/site-packages/torchvision/models/_utils.py:208: UserWarning: The parameter 'pretrained' is deprecated since 0.13 and may be removed in the future, please use 'weights' instead.\n",
      "  warnings.warn(\n",
      "/opt/conda/lib/python3.10/site-packages/torchvision/models/_utils.py:223: UserWarning: Arguments other than a weight enum or `None` for 'weights' are deprecated since 0.13 and may be removed in the future. The current behavior is equivalent to passing `weights=ResNet18_Weights.IMAGENET1K_V1`. You can also use `weights=ResNet18_Weights.DEFAULT` to get the most up-to-date weights.\n",
      "  warnings.warn(msg)\n"
     ]
    }
   ],
   "source": [
    "model = torchvision.models.resnet18(pretrained=True)"
   ]
  },
  {
   "cell_type": "code",
   "execution_count": 5,
   "metadata": {},
   "outputs": [
    {
     "name": "stderr",
     "output_type": "stream",
     "text": [
      "/opt/conda/lib/python3.10/site-packages/torch/ao/quantization/fx/prepare.py:1536: UserWarning: Passing a QConfig dictionary to prepare is deprecated and will not be supported in a future version. Please pass in a QConfigMapping instead.\n",
      "  warnings.warn(\n",
      "/opt/conda/lib/python3.10/site-packages/torch/ao/quantization/observer.py:214: UserWarning: Please use quant_min and quant_max to specify the range for observers.                     reduce_range will be deprecated in a future release of PyTorch.\n",
      "  warnings.warn(\n"
     ]
    }
   ],
   "source": [
    "import torch\n",
    "import torchvision\n",
    "import copy\n",
    "from torch.quantization import quantize_fx\n",
    "\n",
    "m = copy.deepcopy(model)\n",
    "m.to(\"cpu\")\n",
    "m.eval()\n",
    "img = torch.randn(16, 3, 224, 224)\n",
    "qconfig_dict = {\"\": torch.quantization.get_default_qconfig(\"fbgemm\")}\n",
    "model_prepared = quantize_fx.prepare_fx(m, qconfig_dict, img)\n",
    "\n",
    "with torch.inference_mode():\n",
    "    for _ in range(10):\n",
    "        model_prepared(img)\n",
    "model = quantize_fx.convert_fx(model_prepared)"
   ]
  },
  {
   "cell_type": "code",
   "execution_count": 6,
   "metadata": {
    "colab": {},
    "colab_type": "code",
    "id": "rS7Bsm3zt3Hl"
   },
   "outputs": [],
   "source": [
    "model = model.eval()"
   ]
  },
  {
   "cell_type": "code",
   "execution_count": 7,
   "metadata": {
    "colab": {},
    "colab_type": "code",
    "id": "4jT-svy6X_yd"
   },
   "outputs": [],
   "source": [
    "# PyTorch ResNet18\n",
    "preprocessing = dict(mean=[0.485, 0.456, 0.406], std=[0.229, 0.224, 0.225], axis=-3)\n",
    "bounds = (0, 1)\n",
    "fmodel = fb.PyTorchModel(model, bounds=bounds, preprocessing=preprocessing)"
   ]
  },
  {
   "cell_type": "markdown",
   "metadata": {
    "colab_type": "text",
    "id": "ZIFNv2HsYmGt"
   },
   "source": [
    "## Transform bounds\n",
    "\n",
    "In the following, we want to work with a model that has `(0, 1)` bounds. Use `fmodel.transform_bounds`."
   ]
  },
  {
   "cell_type": "code",
   "execution_count": 8,
   "metadata": {
    "colab": {},
    "colab_type": "code",
    "id": "aD3g8m3cY4aO"
   },
   "outputs": [],
   "source": [
    "fmodel = fmodel.transform_bounds((0, 1))"
   ]
  },
  {
   "cell_type": "code",
   "execution_count": 9,
   "metadata": {
    "colab": {},
    "colab_type": "code",
    "id": "dknfqEoyZ9BK"
   },
   "outputs": [],
   "source": [
    "assert fmodel.bounds == (0, 1)"
   ]
  },
  {
   "cell_type": "markdown",
   "metadata": {
    "colab_type": "text",
    "id": "5-IRsoejYFKG"
   },
   "source": [
    "## Get some test images\n",
    "\n",
    "Get a batch of 16 images and the corrresponding labels. You can use `foolbox.utils.samples` to get up to 20 images, but you can also you your own data loader."
   ]
  },
  {
   "cell_type": "code",
   "execution_count": 10,
   "metadata": {},
   "outputs": [
    {
     "name": "stdout",
     "output_type": "stream",
     "text": [
      "test\n"
     ]
    }
   ],
   "source": [
    "print(\"test\")"
   ]
  },
  {
   "cell_type": "code",
   "execution_count": 11,
   "metadata": {
    "colab": {},
    "colab_type": "code",
    "id": "7_iGIBTAYRRV"
   },
   "outputs": [],
   "source": [
    "images, labels = fb.utils.samples(fmodel, dataset='imagenet', batchsize=16)"
   ]
  },
  {
   "cell_type": "code",
   "execution_count": 12,
   "metadata": {},
   "outputs": [
    {
     "name": "stdout",
     "output_type": "stream",
     "text": [
      "test1\n"
     ]
    }
   ],
   "source": [
    "print(\"test1\")"
   ]
  },
  {
   "cell_type": "markdown",
   "metadata": {
    "colab_type": "text",
    "id": "16RxhaaTZHGW"
   },
   "source": [
    "## Check the accuracy of your model to make sure you specified the correct preprocessing"
   ]
  },
  {
   "cell_type": "code",
   "execution_count": 13,
   "metadata": {
    "colab": {
     "base_uri": "https://localhost:8080/",
     "height": 34
    },
    "colab_type": "code",
    "id": "YYzcm-y3ZEge",
    "outputId": "5495b6e9-df2d-47f5-819f-ec57e58dba8f"
   },
   "outputs": [],
   "source": [
    "# fb.utils.accuracy(fmodel, images, labels)"
   ]
  },
  {
   "cell_type": "code",
   "execution_count": 14,
   "metadata": {
    "colab": {
     "base_uri": "https://localhost:8080/",
     "height": 34
    },
    "colab_type": "code",
    "id": "s0KKvszBZTK_",
    "outputId": "7dc1fd26-f53f-4a5c-f492-9d6ab6fa13c4"
   },
   "outputs": [
    {
     "data": {
      "text/plain": [
       "(torch.Tensor, torch.Size([16, 3, 224, 224]))"
      ]
     },
     "execution_count": 14,
     "metadata": {},
     "output_type": "execute_result"
    }
   ],
   "source": [
    "type(images), images.shape"
   ]
  },
  {
   "cell_type": "code",
   "execution_count": 15,
   "metadata": {
    "colab": {
     "base_uri": "https://localhost:8080/",
     "height": 34
    },
    "colab_type": "code",
    "id": "jdVr1I7xa3eZ",
    "outputId": "6a3a4d29-bba5-4412-c584-226f088c898c"
   },
   "outputs": [
    {
     "data": {
      "text/plain": [
       "(torch.Tensor, torch.Size([16]))"
      ]
     },
     "execution_count": 15,
     "metadata": {},
     "output_type": "execute_result"
    }
   ],
   "source": [
    "type(labels), labels.shape"
   ]
  },
  {
   "cell_type": "markdown",
   "metadata": {
    "colab_type": "text",
    "id": "-A-U7jXkaL5Z"
   },
   "source": [
    "## Run LinfDeepFool"
   ]
  },
  {
   "cell_type": "code",
   "execution_count": 16,
   "metadata": {
    "colab": {},
    "colab_type": "code",
    "id": "ok1bWA0zaPqk"
   },
   "outputs": [],
   "source": [
    "attack = fb.attacks.LinfDeepFoolAttack()"
   ]
  },
  {
   "cell_type": "code",
   "execution_count": null,
   "metadata": {
    "colab": {
     "base_uri": "https://localhost:8080/",
     "height": 0
    },
    "colab_type": "code",
    "id": "0tSDbfp0abaD",
    "outputId": "a1203797-d9cd-4eda-c4cb-72ba2e53b9ea"
   },
   "outputs": [],
   "source": [
    "raw, clipped, is_adv = attack(fmodel, images, labels, epsilons=0.03)"
   ]
  },
  {
   "cell_type": "code",
   "execution_count": null,
   "metadata": {
    "colab": {
     "base_uri": "https://localhost:8080/",
     "height": 0
    },
    "colab_type": "code",
    "id": "UDOMxl_Iar5N",
    "outputId": "266631b9-d29d-47bc-85ca-d3a8a733e6da"
   },
   "outputs": [],
   "source": [
    "is_adv"
   ]
  },
  {
   "cell_type": "markdown",
   "metadata": {
    "colab_type": "text",
    "id": "vUXEA9Zqa_iv"
   },
   "source": [
    "## Use EagerPy tensors and rerun the attack"
   ]
  },
  {
   "cell_type": "code",
   "execution_count": null,
   "metadata": {
    "colab": {},
    "colab_type": "code",
    "id": "55VDs2bAbDpq"
   },
   "outputs": [],
   "source": [
    "import eagerpy as ep"
   ]
  },
  {
   "cell_type": "code",
   "execution_count": null,
   "metadata": {
    "colab": {},
    "colab_type": "code",
    "id": "x1awB7O9bBQb"
   },
   "outputs": [],
   "source": [
    "images = ep.astensor(images)\n",
    "labels = ep.astensor(labels)"
   ]
  },
  {
   "cell_type": "code",
   "execution_count": null,
   "metadata": {
    "colab": {},
    "colab_type": "code",
    "id": "0537i5ktbICC"
   },
   "outputs": [],
   "source": [
    "raw, clipped, is_adv = attack(fmodel, images, labels, epsilons=0.03)"
   ]
  },
  {
   "cell_type": "code",
   "execution_count": null,
   "metadata": {
    "colab": {
     "base_uri": "https://localhost:8080/",
     "height": 0
    },
    "colab_type": "code",
    "id": "nWtyIWKVbQz5",
    "outputId": "fd2e1a8f-8446-4bdf-94ee-2900e93ebbd7"
   },
   "outputs": [],
   "source": [
    "is_adv"
   ]
  },
  {
   "cell_type": "code",
   "execution_count": null,
   "metadata": {
    "colab": {
     "base_uri": "https://localhost:8080/",
     "height": 0
    },
    "colab_type": "code",
    "id": "xKzZYtsGbS6U",
    "outputId": "a4e47cc8-ac7c-4958-9b6d-575070d06b31"
   },
   "outputs": [],
   "source": [
    "is_adv.float32().mean().item()"
   ]
  },
  {
   "cell_type": "markdown",
   "metadata": {
    "colab_type": "text",
    "id": "beBtrF8bEvK4"
   },
   "source": [
    "## Using the Misclassification criterion explicitly"
   ]
  },
  {
   "cell_type": "code",
   "execution_count": null,
   "metadata": {
    "colab": {},
    "colab_type": "code",
    "id": "xfgD6korE-qH"
   },
   "outputs": [],
   "source": [
    "criterion = fb.criteria.Misclassification(labels)"
   ]
  },
  {
   "cell_type": "code",
   "execution_count": null,
   "metadata": {
    "colab": {},
    "colab_type": "code",
    "id": "nBub7erBFHT6"
   },
   "outputs": [],
   "source": [
    "raw, clipped, is_adv = attack(fmodel, images, criterion, epsilons=0.03)"
   ]
  },
  {
   "cell_type": "code",
   "execution_count": null,
   "metadata": {
    "colab": {
     "base_uri": "https://localhost:8080/",
     "height": 0
    },
    "colab_type": "code",
    "id": "_X-YiV7-FJ0T",
    "outputId": "7fbbd5c8-29ef-44a6-92e1-f4ad07ac591c"
   },
   "outputs": [],
   "source": [
    "is_adv"
   ]
  },
  {
   "cell_type": "markdown",
   "metadata": {
    "colab_type": "text",
    "id": "-XHAOyeDbaT2"
   },
   "source": [
    "## Run the attack using many epsilons"
   ]
  },
  {
   "cell_type": "code",
   "execution_count": null,
   "metadata": {
    "colab": {},
    "colab_type": "code",
    "id": "ywZt64jQccX4"
   },
   "outputs": [],
   "source": [
    "import numpy as np"
   ]
  },
  {
   "cell_type": "code",
   "execution_count": null,
   "metadata": {
    "colab": {},
    "colab_type": "code",
    "id": "pk0kP1dvbWt0"
   },
   "outputs": [],
   "source": [
    "epsilons = np.linspace(0.0, 0.005, num=20)"
   ]
  },
  {
   "cell_type": "code",
   "execution_count": null,
   "metadata": {
    "colab": {},
    "colab_type": "code",
    "id": "Rul-b9QUbqR8"
   },
   "outputs": [],
   "source": [
    "raw, clipped, is_adv = attack(fmodel, images, labels, epsilons=epsilons)"
   ]
  },
  {
   "cell_type": "code",
   "execution_count": null,
   "metadata": {
    "colab": {
     "base_uri": "https://localhost:8080/",
     "height": 0
    },
    "colab_type": "code",
    "id": "hM3uM7htbsSf",
    "outputId": "18b1ab8b-e881-49fc-9ada-1dd5b0ef04ad"
   },
   "outputs": [],
   "source": [
    "is_adv.shape"
   ]
  },
  {
   "cell_type": "code",
   "execution_count": null,
   "metadata": {
    "colab": {
     "base_uri": "https://localhost:8080/",
     "height": 0
    },
    "colab_type": "code",
    "id": "hWE-5qCjb4gW",
    "outputId": "75286819-c668-4374-b254-bbc82d31b819"
   },
   "outputs": [],
   "source": [
    "is_adv.float32().mean(axis=-1)"
   ]
  },
  {
   "cell_type": "code",
   "execution_count": null,
   "metadata": {
    "colab": {},
    "colab_type": "code",
    "id": "KEf5-wQtcD2Z"
   },
   "outputs": [],
   "source": [
    "robust_accuracy = 1 - is_adv.float32().mean(axis=-1)"
   ]
  },
  {
   "cell_type": "code",
   "execution_count": null,
   "metadata": {
    "colab": {
     "base_uri": "https://localhost:8080/",
     "height": 0
    },
    "colab_type": "code",
    "id": "mVUNz6G1cKT2",
    "outputId": "6b28b310-f36e-4fc5-e9f8-3380cf40fdc9"
   },
   "outputs": [],
   "source": [
    "robust_accuracy"
   ]
  },
  {
   "cell_type": "markdown",
   "metadata": {
    "colab_type": "text",
    "id": "xHb2XzjVcMyb"
   },
   "source": [
    "## Plot the robust accuracy as a function of epsilon"
   ]
  },
  {
   "cell_type": "code",
   "execution_count": null,
   "metadata": {
    "colab": {},
    "colab_type": "code",
    "id": "WLuSC9mHcNIv"
   },
   "outputs": [],
   "source": [
    "import matplotlib.pyplot as plt"
   ]
  },
  {
   "cell_type": "code",
   "execution_count": null,
   "metadata": {
    "colab": {
     "base_uri": "https://localhost:8080/",
     "height": 282
    },
    "colab_type": "code",
    "id": "UfsP6Oa6cLac",
    "outputId": "a754116b-8424-4fa7-9c76-a11d13193cc5"
   },
   "outputs": [],
   "source": [
    "plt.plot(epsilons, robust_accuracy.numpy())"
   ]
  },
  {
   "cell_type": "markdown",
   "metadata": {
    "colab_type": "text",
    "id": "AHZxs8GS6QuZ"
   },
   "source": [
    "We can see that **the model is not robust** at all. Even extremely small perturbations (Linf norm of 0.003 for pixels between 0 and 1) are sufficient\n",
    "to change the classification."
   ]
  },
  {
   "cell_type": "markdown",
   "metadata": {
    "colab_type": "text",
    "id": "j0GjZI4Xc2Ug"
   },
   "source": [
    "## Run a targeted attack"
   ]
  },
  {
   "cell_type": "code",
   "execution_count": null,
   "metadata": {
    "colab": {
     "base_uri": "https://localhost:8080/",
     "height": 52
    },
    "colab_type": "code",
    "id": "eKgW3nmJwGXT",
    "outputId": "6e3f65e0-046a-4cf3-f1ef-d389329991fb"
   },
   "outputs": [],
   "source": [
    "labels"
   ]
  },
  {
   "cell_type": "code",
   "execution_count": null,
   "metadata": {
    "colab": {},
    "colab_type": "code",
    "id": "HNKHXJRmwAIg"
   },
   "outputs": [],
   "source": [
    "target_classes = (labels + 200) % 1000"
   ]
  },
  {
   "cell_type": "code",
   "execution_count": null,
   "metadata": {
    "colab": {
     "base_uri": "https://localhost:8080/",
     "height": 52
    },
    "colab_type": "code",
    "id": "rQYu5MADwQfM",
    "outputId": "8e6c6e19-f10f-43b6-ff2a-5b1352afbdff"
   },
   "outputs": [],
   "source": [
    "target_classes"
   ]
  },
  {
   "cell_type": "code",
   "execution_count": null,
   "metadata": {
    "colab": {},
    "colab_type": "code",
    "id": "qyWL1BbidDIm"
   },
   "outputs": [],
   "source": [
    "criterion = fb.criteria.TargetedMisclassification(target_classes)"
   ]
  },
  {
   "cell_type": "code",
   "execution_count": null,
   "metadata": {
    "colab": {},
    "colab_type": "code",
    "id": "eoI1w0i1wrp6"
   },
   "outputs": [],
   "source": [
    "attack = fb.attacks.L2CarliniWagnerAttack(steps=100)\n",
    "# Note: 100 is too little -> results will be bad = perturbations will be relatively large (but 1000 takes much longer)"
   ]
  },
  {
   "cell_type": "code",
   "execution_count": null,
   "metadata": {
    "colab": {},
    "colab_type": "code",
    "id": "cjX0RmLlxOLn"
   },
   "outputs": [],
   "source": [
    "# epsilons = np.linspace(0.0, 10.0, num=20)\n",
    "epsilons = None"
   ]
  },
  {
   "cell_type": "code",
   "execution_count": null,
   "metadata": {
    "colab": {},
    "colab_type": "code",
    "id": "fBw5Cjxvwd-R"
   },
   "outputs": [],
   "source": [
    "advs, _, is_adv = attack(fmodel, images, criterion, epsilons=epsilons)"
   ]
  },
  {
   "cell_type": "code",
   "execution_count": null,
   "metadata": {
    "colab": {
     "base_uri": "https://localhost:8080/",
     "height": 52
    },
    "colab_type": "code",
    "id": "6ihN4Hskyi-H",
    "outputId": "b7a31586-45dd-4810-bdde-276d7f239dfc"
   },
   "outputs": [],
   "source": [
    "is_adv"
   ]
  },
  {
   "cell_type": "code",
   "execution_count": null,
   "metadata": {
    "colab": {
     "base_uri": "https://localhost:8080/",
     "height": 69
    },
    "colab_type": "code",
    "id": "6-u5SRYg1-nf",
    "outputId": "e174ba11-aeae-4e0b-8ca3-7af0e969a0ca"
   },
   "outputs": [],
   "source": [
    "fb.distances.l2(images, advs)"
   ]
  },
  {
   "cell_type": "code",
   "execution_count": null,
   "metadata": {
    "colab": {},
    "colab_type": "code",
    "id": "7AU7PYNIwhTl"
   },
   "outputs": [],
   "source": [
    "# attack_success_rate = is_adv.float32().mean(axis=-1)"
   ]
  },
  {
   "cell_type": "code",
   "execution_count": null,
   "metadata": {
    "colab": {},
    "colab_type": "code",
    "id": "Geydb0ryw-oc"
   },
   "outputs": [],
   "source": [
    "# plt.plot(epsilons, attack_success_rate.numpy())"
   ]
  },
  {
   "cell_type": "markdown",
   "metadata": {
    "colab_type": "text",
    "id": "0-89Dcm14lg-"
   },
   "source": [
    "## Visualizing adversarial examples and perturbations"
   ]
  },
  {
   "cell_type": "code",
   "execution_count": null,
   "metadata": {
    "colab": {
     "base_uri": "https://localhost:8080/",
     "height": 96
    },
    "colab_type": "code",
    "id": "iNziF0QM4oDf",
    "outputId": "27d53739-4239-4054-95d0-49364fa65120"
   },
   "outputs": [],
   "source": [
    "fb.plot.images(images)"
   ]
  },
  {
   "cell_type": "code",
   "execution_count": null,
   "metadata": {
    "colab": {
     "base_uri": "https://localhost:8080/",
     "height": 96
    },
    "colab_type": "code",
    "id": "CSSNpohg5uaU",
    "outputId": "73c82578-9211-411b-b512-0d7e23943ad6"
   },
   "outputs": [],
   "source": [
    "fb.plot.images(advs)"
   ]
  },
  {
   "cell_type": "code",
   "execution_count": null,
   "metadata": {
    "colab": {
     "base_uri": "https://localhost:8080/",
     "height": 309
    },
    "colab_type": "code",
    "id": "Ft4Vjb506GPg",
    "outputId": "d5ca78f1-1649-4da7-b357-13c51626c100"
   },
   "outputs": [],
   "source": [
    "fb.plot.images(advs - images, n=4, bounds=(-0.1, 0.1), scale=4.)"
   ]
  },
  {
   "cell_type": "markdown",
   "metadata": {
    "colab_type": "text",
    "id": "HQS3adgg6xwC"
   },
   "source": [
    "The adversarial examples look like the orignal (clean) images. That shows that **the model is not robust against adversarial attacks**. Tiny perturbations mislead the model and allow the attacker to control which class is recognized."
   ]
  },
  {
   "cell_type": "markdown",
   "metadata": {
    "colab_type": "text",
    "id": "0qhSuyHAc8ji"
   },
   "source": [
    "## Continuing from here ...\n",
    "\n",
    "\n",
    "\n",
    "*   Repeating an attack (`attack = attack.repeat(3)`)\n",
    "*   Getting the per-sample worst-case over multiple attacks\n",
    "    * stack attack results and take max over the attacks before taking the mean over samples\n",
    "*   Gradient estimators (`fb.gradient_estimators.*`)\n",
    "*   Transfer attacks using gradient substitution (see examples)\n",
    "\n"
   ]
  },
  {
   "cell_type": "code",
   "execution_count": null,
   "metadata": {
    "colab": {},
    "colab_type": "code",
    "id": "aEu3mNcxcTnG"
   },
   "outputs": [],
   "source": []
  }
 ],
 "metadata": {
  "accelerator": "GPU",
  "colab": {
   "collapsed_sections": [
    "ZCzmdczhBkSL",
    "ldGVK689BqSs",
    "GFRoex7-B4lj",
    "M5e1no0_DUqO",
    "JYYYPYsvDbhF",
    "CSTk5QS1Dh09",
    "aVFykA0jDnt8",
    "4IJ9S63QDrW0",
    "Whh9Yqh7D2au",
    "cOs-TwIHEBiT",
    "b5qD7Yo7E0Nq",
    "Zt7tTbEoEKlL",
    "yHaOZFR8Ef6F",
    "zEBlhDhTEjqk",
    "V3CywhNvFd3y"
   ],
   "name": "foolbox3.ipynb",
   "provenance": []
  },
  "kernelspec": {
   "display_name": "Python 3 (ipykernel)",
   "language": "python",
   "name": "python3"
  },
  "language_info": {
   "codemirror_mode": {
    "name": "ipython",
    "version": 3
   },
   "file_extension": ".py",
   "mimetype": "text/x-python",
   "name": "python",
   "nbconvert_exporter": "python",
   "pygments_lexer": "ipython3",
   "version": "3.10.9"
  },
  "widgets": {
   "application/vnd.jupyter.widget-state+json": {
    "18f2b11015404be0b753a51867a30c44": {
     "model_module": "@jupyter-widgets/controls",
     "model_name": "ProgressStyleModel",
     "state": {
      "_model_module": "@jupyter-widgets/controls",
      "_model_module_version": "1.5.0",
      "_model_name": "ProgressStyleModel",
      "_view_count": null,
      "_view_module": "@jupyter-widgets/base",
      "_view_module_version": "1.2.0",
      "_view_name": "StyleView",
      "bar_color": null,
      "description_width": "initial"
     }
    },
    "4741f7d77b9343ad88cc5901bf4ebb6e": {
     "model_module": "@jupyter-widgets/base",
     "model_name": "LayoutModel",
     "state": {
      "_model_module": "@jupyter-widgets/base",
      "_model_module_version": "1.2.0",
      "_model_name": "LayoutModel",
      "_view_count": null,
      "_view_module": "@jupyter-widgets/base",
      "_view_module_version": "1.2.0",
      "_view_name": "LayoutView",
      "align_content": null,
      "align_items": null,
      "align_self": null,
      "border": null,
      "bottom": null,
      "display": null,
      "flex": null,
      "flex_flow": null,
      "grid_area": null,
      "grid_auto_columns": null,
      "grid_auto_flow": null,
      "grid_auto_rows": null,
      "grid_column": null,
      "grid_gap": null,
      "grid_row": null,
      "grid_template_areas": null,
      "grid_template_columns": null,
      "grid_template_rows": null,
      "height": null,
      "justify_content": null,
      "justify_items": null,
      "left": null,
      "margin": null,
      "max_height": null,
      "max_width": null,
      "min_height": null,
      "min_width": null,
      "object_fit": null,
      "object_position": null,
      "order": null,
      "overflow": null,
      "overflow_x": null,
      "overflow_y": null,
      "padding": null,
      "right": null,
      "top": null,
      "visibility": null,
      "width": null
     }
    },
    "4ef7908156304a08bed88b37f7a819d3": {
     "model_module": "@jupyter-widgets/controls",
     "model_name": "FloatProgressModel",
     "state": {
      "_dom_classes": [],
      "_model_module": "@jupyter-widgets/controls",
      "_model_module_version": "1.5.0",
      "_model_name": "FloatProgressModel",
      "_view_count": null,
      "_view_module": "@jupyter-widgets/controls",
      "_view_module_version": "1.5.0",
      "_view_name": "ProgressView",
      "bar_style": "success",
      "description": "100%",
      "description_tooltip": null,
      "layout": "IPY_MODEL_4741f7d77b9343ad88cc5901bf4ebb6e",
      "max": 46827520,
      "min": 0,
      "orientation": "horizontal",
      "style": "IPY_MODEL_18f2b11015404be0b753a51867a30c44",
      "value": 46827520
     }
    },
    "6a6127cafbaf435e895b8aecc29e1d5b": {
     "model_module": "@jupyter-widgets/controls",
     "model_name": "HBoxModel",
     "state": {
      "_dom_classes": [],
      "_model_module": "@jupyter-widgets/controls",
      "_model_module_version": "1.5.0",
      "_model_name": "HBoxModel",
      "_view_count": null,
      "_view_module": "@jupyter-widgets/controls",
      "_view_module_version": "1.5.0",
      "_view_name": "HBoxView",
      "box_style": "",
      "children": [
       "IPY_MODEL_4ef7908156304a08bed88b37f7a819d3",
       "IPY_MODEL_dc984818c51f4987a1c7069e423190c0"
      ],
      "layout": "IPY_MODEL_8138122202424470ae69a2a51b96a323"
     }
    },
    "6f6b8e23dc21497fa813c8b22ad0a08e": {
     "model_module": "@jupyter-widgets/controls",
     "model_name": "DescriptionStyleModel",
     "state": {
      "_model_module": "@jupyter-widgets/controls",
      "_model_module_version": "1.5.0",
      "_model_name": "DescriptionStyleModel",
      "_view_count": null,
      "_view_module": "@jupyter-widgets/base",
      "_view_module_version": "1.2.0",
      "_view_name": "StyleView",
      "description_width": ""
     }
    },
    "8138122202424470ae69a2a51b96a323": {
     "model_module": "@jupyter-widgets/base",
     "model_name": "LayoutModel",
     "state": {
      "_model_module": "@jupyter-widgets/base",
      "_model_module_version": "1.2.0",
      "_model_name": "LayoutModel",
      "_view_count": null,
      "_view_module": "@jupyter-widgets/base",
      "_view_module_version": "1.2.0",
      "_view_name": "LayoutView",
      "align_content": null,
      "align_items": null,
      "align_self": null,
      "border": null,
      "bottom": null,
      "display": null,
      "flex": null,
      "flex_flow": null,
      "grid_area": null,
      "grid_auto_columns": null,
      "grid_auto_flow": null,
      "grid_auto_rows": null,
      "grid_column": null,
      "grid_gap": null,
      "grid_row": null,
      "grid_template_areas": null,
      "grid_template_columns": null,
      "grid_template_rows": null,
      "height": null,
      "justify_content": null,
      "justify_items": null,
      "left": null,
      "margin": null,
      "max_height": null,
      "max_width": null,
      "min_height": null,
      "min_width": null,
      "object_fit": null,
      "object_position": null,
      "order": null,
      "overflow": null,
      "overflow_x": null,
      "overflow_y": null,
      "padding": null,
      "right": null,
      "top": null,
      "visibility": null,
      "width": null
     }
    },
    "d609671ca13e47a78141f54c4b7bf8a1": {
     "model_module": "@jupyter-widgets/base",
     "model_name": "LayoutModel",
     "state": {
      "_model_module": "@jupyter-widgets/base",
      "_model_module_version": "1.2.0",
      "_model_name": "LayoutModel",
      "_view_count": null,
      "_view_module": "@jupyter-widgets/base",
      "_view_module_version": "1.2.0",
      "_view_name": "LayoutView",
      "align_content": null,
      "align_items": null,
      "align_self": null,
      "border": null,
      "bottom": null,
      "display": null,
      "flex": null,
      "flex_flow": null,
      "grid_area": null,
      "grid_auto_columns": null,
      "grid_auto_flow": null,
      "grid_auto_rows": null,
      "grid_column": null,
      "grid_gap": null,
      "grid_row": null,
      "grid_template_areas": null,
      "grid_template_columns": null,
      "grid_template_rows": null,
      "height": null,
      "justify_content": null,
      "justify_items": null,
      "left": null,
      "margin": null,
      "max_height": null,
      "max_width": null,
      "min_height": null,
      "min_width": null,
      "object_fit": null,
      "object_position": null,
      "order": null,
      "overflow": null,
      "overflow_x": null,
      "overflow_y": null,
      "padding": null,
      "right": null,
      "top": null,
      "visibility": null,
      "width": null
     }
    },
    "dc984818c51f4987a1c7069e423190c0": {
     "model_module": "@jupyter-widgets/controls",
     "model_name": "HTMLModel",
     "state": {
      "_dom_classes": [],
      "_model_module": "@jupyter-widgets/controls",
      "_model_module_version": "1.5.0",
      "_model_name": "HTMLModel",
      "_view_count": null,
      "_view_module": "@jupyter-widgets/controls",
      "_view_module_version": "1.5.0",
      "_view_name": "HTMLView",
      "description": "",
      "description_tooltip": null,
      "layout": "IPY_MODEL_d609671ca13e47a78141f54c4b7bf8a1",
      "placeholder": "​",
      "style": "IPY_MODEL_6f6b8e23dc21497fa813c8b22ad0a08e",
      "value": " 44.7M/44.7M [00:28&lt;00:00, 1.66MB/s]"
     }
    }
   }
  }
 },
 "nbformat": 4,
 "nbformat_minor": 1
}
