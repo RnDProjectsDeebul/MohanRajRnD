{
 "cells": [
  {
   "cell_type": "code",
   "execution_count": 1,
   "metadata": {},
   "outputs": [
    {
     "name": "stdout",
     "output_type": "stream",
     "text": [
      "Files already downloaded and verified\n",
      "model loading success\n"
     ]
    }
   ],
   "source": [
    "!pip install foolbox -q\n",
    "import foolbox as fb\n",
    "import torch\n",
    "import torchvision\n",
    "from torchvision.models import ResNet18_Weights\n",
    "from helpers import get_model\n",
    "import numpy as np\n",
    "import matplotlib.pyplot as plt\n",
    "import eagerpy as ep\n",
    "import copy\n",
    "from torch.quantization import quantize_fx\n",
    "import torchvision.transforms as transforms\n",
    "import warnings\n",
    "warnings.filterwarnings(\"ignore\")\n",
    "\n",
    "\n",
    "parameters = {'quantise':True}\n",
    "\n",
    "\n",
    "classes = ('plane', 'car', 'bird', 'cat', 'deer', 'dog', 'frog', 'horse', 'ship', 'truck')\n",
    "def load_test_data(data_dir):\n",
    "    transform = transforms.Compose([transforms.ToTensor(), transforms.RandomErasing()])\n",
    "    testset = torchvision.datasets.CIFAR10(root=data_dir, train=False, download=True, transform=transform)   \n",
    "    return testset\n",
    "\n",
    "data_dir = '../../data'\n",
    "tes = load_test_data(data_dir)\n",
    "testloader = torch.utils.data.DataLoader(tes, batch_size=20, shuffle=False, num_workers=2)\n",
    "dataloader = {\"test\": testloader}\n",
    "\n",
    "model = torchvision.models.resnet18(weights=ResNet18_Weights.DEFAULT)\n",
    "dataiter = iter(dataloader['test'])\n",
    "img, lab = next(dataiter)\n",
    "\n",
    "\n",
    "if parameters['quantise'] == True:\n",
    "    m = copy.deepcopy(model)\n",
    "    m.to(\"cpu\")\n",
    "    m.eval()\n",
    "    qconfig_dict = {\"\": torch.quantization.get_default_qconfig(\"fbgemm\")}\n",
    "    model_prepared = quantize_fx.prepare_fx(m, qconfig_dict, img)\n",
    "\n",
    "    with torch.inference_mode():\n",
    "        for _ in range(10):\n",
    "            img, lab = next(dataiter)\n",
    "            model_prepared(img)\n",
    "    model = quantize_fx.convert_fx(model_prepared)\n",
    "\n",
    "\n",
    "test_out = model(img)\n",
    "print(\"model loading success\")"
   ]
  },
  {
   "cell_type": "code",
   "execution_count": null,
   "metadata": {},
   "outputs": [],
   "source": [
    "model = model.eval()\n",
    "preprocessing = dict(mean=[0.485, 0.456, 0.406], std=[0.229, 0.224, 0.225], axis=-3)\n",
    "bounds = (0, 1)\n",
    "fmodel = fb.PyTorchModel(model, bounds=bounds, preprocessing=preprocessing)\n",
    "print(\"successfully converted to foolbox model\")\n",
    "fmodel = fmodel.transform_bounds((0, 1))\n",
    "images, labels = fb.utils.samples(fmodel, dataset='cifar10', batchsize=16)\n",
    "images = ep.astensor(images)\n",
    "labels = ep.astensor(labels)\n",
    "accuracy = fb.utils.accuracy(fmodel, images, labels)\n",
    "print(accuracy)\n",
    "\n",
    "\n",
    "attack = fb.attacks.LinfDeepFoolAttack()\n",
    "#attack = fb.attacks.LinfFastGradientAttack()\n",
    "#attack = fb.attacks.LinfProjectedGradientDescentAttack()\n",
    "#attack = fb.attacks.SaltAndPepperNoiseAttack() \n",
    "\n",
    "raw, clipped, is_adv = attack(fmodel, images, labels, epsilons=0.03)\n",
    "accuracy = is_adv.float32().mean().item()\n",
    "print(accuracy)"
   ]
  }
 ],
 "metadata": {
  "kernelspec": {
   "display_name": "Python 3 (ipykernel)",
   "language": "python",
   "name": "python3"
  },
  "language_info": {
   "codemirror_mode": {
    "name": "ipython",
    "version": 3
   },
   "file_extension": ".py",
   "mimetype": "text/x-python",
   "name": "python",
   "nbconvert_exporter": "python",
   "pygments_lexer": "ipython3",
   "version": "3.10.9"
  }
 },
 "nbformat": 4,
 "nbformat_minor": 2
}
