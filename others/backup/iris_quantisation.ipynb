{
 "cells": [
  {
   "cell_type": "code",
   "execution_count": null,
   "metadata": {},
   "outputs": [],
   "source": [
    "import torch\n",
    "from torch import nn\n",
    "import blobconverter\n",
    "from onnxsim import simplify\n",
    "import onnx\n",
    "import torch.nn.functional as F\n",
    "\n",
    "class Model(nn.Module):\n",
    "    def __init__(self):\n",
    "        super(Model, self).__init__()\n",
    "        self.fc1 = nn.Linear(4, 100)\n",
    "        self.fc2 = nn.Linear(100, 100)\n",
    "        self.fc3 = nn.Linear(100, 3)\n",
    "        self.softmax = nn.Softmax(dim=1) \n",
    "\n",
    "    def forward(self, X):\n",
    "        X = F.relu(self.fc1(X))\n",
    "        X = self.fc2(X)\n",
    "        X = self.fc3(X)\n",
    "        return X\n",
    "\n",
    "\n",
    "\n",
    "model = Model()\n",
    "shape = (10,4)\n",
    "X = torch.ones(shape, dtype=torch.float32)\n",
    "\n",
    "onnx_file = \"../../results/test.onnx\"\n",
    "torch.onnx.export(\n",
    "    model,\n",
    "    X,\n",
    "    onnx_file,\n",
    "    opset_version=12,\n",
    "    do_constant_folding=True,\n",
    ")\n",
    "\n",
    "\n",
    "onnx_simplified_path = \"../../results/onnx_simple.onnx\"\n",
    "onnx_model =  onnx.load(onnx_file)\n",
    "model_simp, check = simplify(onnx_model)\n",
    "onnx.save(model_simp, onnx_simplified_path)\n",
    "\n",
    "\n",
    "blobconverter.from_onnx(\n",
    "    model=onnx_file,\n",
    "    data_type=\"FP16\",\n",
    "    shaves=6,\n",
    "    use_cache=False,\n",
    "    output_dir=\"../../results\",\n",
    "    optimizer_params=[]\n",
    ")"
   ]
  }
 ],
 "metadata": {
  "kernelspec": {
   "display_name": "Python 3",
   "language": "python",
   "name": "python3"
  },
  "language_info": {
   "name": "python",
   "version": "3.6.8"
  },
  "orig_nbformat": 4,
  "vscode": {
   "interpreter": {
    "hash": "31f2aee4e71d21fbe5cf8b01ff0e069b9275f58929596ceb00d14d90e3e16cd6"
   }
  }
 },
 "nbformat": 4,
 "nbformat_minor": 2
}
