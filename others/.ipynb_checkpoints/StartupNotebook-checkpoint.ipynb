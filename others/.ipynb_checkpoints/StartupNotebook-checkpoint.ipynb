{
 "cells": [
  {
   "cell_type": "code",
   "execution_count": 1,
   "id": "45747f76",
   "metadata": {},
   "outputs": [
    {
     "name": "stdout",
     "output_type": "stream",
     "text": [
      "\u001b[31mERROR: pip's dependency resolver does not currently take into account all the packages that are installed. This behaviour is the source of the following dependency conflicts.\r\n",
      "pytorch-ignite 0.4.4 requires torch<2,>=1.3, but you have torch 2.0.1 which is incompatible.\r\n",
      "torchaudio 0.11.0+cu113 requires torch==1.11.0, but you have torch 2.0.1 which is incompatible.\u001b[0m\u001b[31m\r\n",
      "\u001b[0m"
     ]
    }
   ],
   "source": [
    "!pip install --upgrade torch torchvision -q"
   ]
  },
  {
   "cell_type": "code",
   "execution_count": 2,
   "id": "1109c113",
   "metadata": {},
   "outputs": [],
   "source": [
    "!pip install neptune-client -q"
   ]
  },
  {
   "cell_type": "code",
   "execution_count": 3,
   "id": "b871e327",
   "metadata": {},
   "outputs": [],
   "source": [
    "!pip install scikit-learn -q"
   ]
  },
  {
   "cell_type": "code",
   "execution_count": 4,
   "id": "62889a8f",
   "metadata": {},
   "outputs": [],
   "source": [
    "!pip install scikit-plot -q"
   ]
  },
  {
   "cell_type": "code",
   "execution_count": 5,
   "id": "52cc1c75",
   "metadata": {},
   "outputs": [],
   "source": [
    "!pip install torchmetrics -q"
   ]
  },
  {
   "cell_type": "code",
   "execution_count": 2,
   "id": "d050c626",
   "metadata": {},
   "outputs": [],
   "source": [
    "!pip install onnx -q\n",
    "!pip install onnx-tf -q\n",
    "!pip install tensorflow-probability -q"
   ]
  },
  {
   "cell_type": "code",
   "execution_count": 7,
   "id": "1d84dabe",
   "metadata": {},
   "outputs": [],
   "source": [
    "!pip install onnxruntime -q"
   ]
  },
  {
   "cell_type": "code",
   "execution_count": 8,
   "id": "16e40e6a",
   "metadata": {},
   "outputs": [],
   "source": [
    "!pip install onnx2pytorch -q"
   ]
  },
  {
   "cell_type": "code",
   "execution_count": null,
   "id": "714fc9eb",
   "metadata": {},
   "outputs": [
    {
     "name": "stdout",
     "output_type": "stream",
     "text": [
      "  % Total    % Received % Xferd  Average Speed   Time    Time     Time  Current\n",
      "                                 Dload  Upload   Total   Spent    Left  Speed\n",
      "100  2659  100  2659    0     0  24172      0 --:--:-- --:--:-- --:--:-- 24172[sudo] password for jovyan: \n",
      "\n",
      "[sudo] password for jovyan: \n",
      "[sudo] password for jovyan: "
     ]
    }
   ],
   "source": [
    "! curl https://packages.cloud.google.com/apt/doc/apt-key.gpg | sudo apt-key add -\n",
    "\n",
    "! echo \"deb https://packages.cloud.google.com/apt coral-edgetpu-stable main\" | sudo tee /etc/apt/sources.list.d/coral-edgetpu.list\n",
    "\n",
    "! sudo apt-get update\n",
    "\n",
    "! sudo apt-get install edgetpu-compiler\t"
   ]
  },
  {
   "cell_type": "code",
   "execution_count": null,
   "id": "b098ac11",
   "metadata": {},
   "outputs": [],
   "source": []
  }
 ],
 "metadata": {
  "kernelspec": {
   "display_name": "Python 3 (ipykernel)",
   "language": "python",
   "name": "python3"
  },
  "language_info": {
   "codemirror_mode": {
    "name": "ipython",
    "version": 3
   },
   "file_extension": ".py",
   "mimetype": "text/x-python",
   "name": "python",
   "nbconvert_exporter": "python",
   "pygments_lexer": "ipython3",
   "version": "3.10.10"
  },
  "vscode": {
   "interpreter": {
    "hash": "6f7e8fdd6c7089b66554fb6a2fb9ba4ef5dc66a5cacc103223d0f5e702d5f7a8"
   }
  }
 },
 "nbformat": 4,
 "nbformat_minor": 5
}
