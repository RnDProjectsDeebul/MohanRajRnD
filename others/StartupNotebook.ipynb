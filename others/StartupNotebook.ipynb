{
 "cells": [
  {
   "cell_type": "code",
   "execution_count": 1,
   "id": "45747f76",
   "metadata": {},
   "outputs": [],
   "source": [
    "!pip install --upgrade torch torchvision -q"
   ]
  },
  {
   "cell_type": "code",
   "execution_count": 2,
   "id": "1109c113",
   "metadata": {},
   "outputs": [],
   "source": [
    "!pip install neptune-client -q"
   ]
  },
  {
   "cell_type": "code",
   "execution_count": 3,
   "id": "b871e327",
   "metadata": {},
   "outputs": [],
   "source": [
    "!pip install scikit-learn -q"
   ]
  },
  {
   "cell_type": "code",
   "execution_count": 4,
   "id": "62889a8f",
   "metadata": {},
   "outputs": [],
   "source": [
    "!pip install scikit-plot -q"
   ]
  },
  {
   "cell_type": "code",
   "execution_count": 5,
   "id": "52cc1c75",
   "metadata": {},
   "outputs": [],
   "source": [
    "!pip install torchmetrics -q"
   ]
  },
  {
   "cell_type": "code",
   "execution_count": 6,
   "id": "d050c626",
   "metadata": {},
   "outputs": [],
   "source": [
    "!pip install onnx -q"
   ]
  },
  {
   "cell_type": "code",
   "execution_count": 7,
   "id": "1d84dabe",
   "metadata": {},
   "outputs": [],
   "source": [
    "!pip install onnxruntime -q"
   ]
  },
  {
   "cell_type": "code",
   "execution_count": 8,
   "id": "16e40e6a",
   "metadata": {},
   "outputs": [],
   "source": [
    "!pip install onnx2pytorch -q"
   ]
  }
 ],
 "metadata": {
  "kernelspec": {
   "display_name": "rnd",
   "language": "python",
   "name": "python3"
  },
  "language_info": {
   "codemirror_mode": {
    "name": "ipython",
    "version": 3
   },
   "file_extension": ".py",
   "mimetype": "text/x-python",
   "name": "python",
   "nbconvert_exporter": "python",
   "pygments_lexer": "ipython3",
   "version": "3.10.9"
  },
  "vscode": {
   "interpreter": {
    "hash": "6f7e8fdd6c7089b66554fb6a2fb9ba4ef5dc66a5cacc103223d0f5e702d5f7a8"
   }
  }
 },
 "nbformat": 4,
 "nbformat_minor": 5
}
