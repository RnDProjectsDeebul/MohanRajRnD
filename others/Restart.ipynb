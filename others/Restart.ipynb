{
 "cells": [
  {
   "cell_type": "code",
   "execution_count": 1,
   "id": "5ddb471a",
   "metadata": {},
   "outputs": [
    {
     "name": "stdout",
     "output_type": "stream",
     "text": [
      "\u001b[33mWARNING: Skipping neptune-client as it is not installed.\u001b[0m\u001b[33m\r\n",
      "\u001b[0m"
     ]
    }
   ],
   "source": [
    "!pip uninstall neptune-client -q"
   ]
  },
  {
   "cell_type": "code",
   "execution_count": 2,
   "id": "48171e5a",
   "metadata": {},
   "outputs": [
    {
     "name": "stdout",
     "output_type": "stream",
     "text": [
      "\u001b[31mERROR: pip's dependency resolver does not currently take into account all the packages that are installed. This behaviour is the source of the following dependency conflicts.\r\n",
      "torchaudio 0.11.0+cu113 requires torch==1.11.0, but you have torch 2.0.1 which is incompatible.\u001b[0m\u001b[31m\r\n",
      "\u001b[0m"
     ]
    }
   ],
   "source": [
    "!pip install --upgrade torch torchvision -q\n",
    "!pip install neptune -q\n",
    "!pip install scikit-plot -q\n",
    "!pip install torchmetrics -q\n",
    "!pip install ptitprince -q"
   ]
  },
  {
   "cell_type": "code",
   "execution_count": 3,
   "id": "840d51e7",
   "metadata": {},
   "outputs": [
    {
     "name": "stdout",
     "output_type": "stream",
     "text": [
      "\u001b[31mERROR: pip's dependency resolver does not currently take into account all the packages that are installed. This behaviour is the source of the following dependency conflicts.\r\n",
      "torchaudio 0.11.0+cu113 requires torch==1.11.0, but you have torch 1.13.1 which is incompatible.\r\n",
      "torchvision 0.15.2 requires torch==2.0.1, but you have torch 1.13.1 which is incompatible.\u001b[0m\u001b[31m\r\n",
      "\u001b[0m"
     ]
    }
   ],
   "source": [
    "!pip install pytorch-ignite==0.4.4 -q"
   ]
  },
  {
   "cell_type": "code",
   "execution_count": 1,
   "id": "0a3d63db",
   "metadata": {},
   "outputs": [
    {
     "name": "stdout",
     "output_type": "stream",
     "text": [
      "\u001b[31mERROR: pip's dependency resolver does not currently take into account all the packages that are installed. This behaviour is the source of the following dependency conflicts.\r\n",
      "pytorch-ignite 0.4.4 requires torch<2,>=1.3, but you have torch 2.0.1 which is incompatible.\r\n",
      "torchaudio 0.11.0+cu113 requires torch==1.11.0, but you have torch 2.0.1 which is incompatible.\u001b[0m\u001b[31m\r\n",
      "\u001b[0m"
     ]
    }
   ],
   "source": [
    "!pip install onnxruntime -q\n",
    "!pip install onnx2pytorch -q\n",
    "!pip install onnx -q\n",
    "!pip install onnx-tf -q\n",
    "!pip install blobconverter -q\n",
    "!pip install onnxsim -q"
   ]
  }
 ],
 "metadata": {
  "kernelspec": {
   "display_name": "Python 3 (ipykernel)",
   "language": "python",
   "name": "python3"
  },
  "language_info": {
   "codemirror_mode": {
    "name": "ipython",
    "version": 3
   },
   "file_extension": ".py",
   "mimetype": "text/x-python",
   "name": "python",
   "nbconvert_exporter": "python",
   "pygments_lexer": "ipython3",
   "version": "3.10.10"
  }
 },
 "nbformat": 4,
 "nbformat_minor": 5
}
