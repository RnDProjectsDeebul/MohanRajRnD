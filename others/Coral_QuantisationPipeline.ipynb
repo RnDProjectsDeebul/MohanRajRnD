{
 "cells": [
  {
   "cell_type": "code",
   "execution_count": 1,
   "metadata": {},
   "outputs": [
    {
     "name": "stderr",
     "output_type": "stream",
     "text": [
      "2023-02-28 21:22:11.777501: I tensorflow/core/platform/cpu_feature_guard.cc:193] This TensorFlow binary is optimized with oneAPI Deep Neural Network Library (oneDNN) to use the following CPU instructions in performance-critical operations:  AVX2 AVX512F FMA\n",
      "To enable them in other operations, rebuild TensorFlow with the appropriate compiler flags.\n",
      "2023-02-28 21:22:12.493193: W tensorflow/compiler/xla/stream_executor/platform/default/dso_loader.cc:64] Could not load dynamic library 'libnvinfer.so.7'; dlerror: libnvinfer.so.7: cannot open shared object file: No such file or directory; LD_LIBRARY_PATH: /usr/local/lib:/usr/local/slurm/slurm-19.05.5/lib:/usr/local/slurm/slurm-19.05.5/lib/slurm:/usr/local/lib:\n",
      "2023-02-28 21:22:12.493284: W tensorflow/compiler/xla/stream_executor/platform/default/dso_loader.cc:64] Could not load dynamic library 'libnvinfer_plugin.so.7'; dlerror: libnvinfer_plugin.so.7: cannot open shared object file: No such file or directory; LD_LIBRARY_PATH: /usr/local/lib:/usr/local/slurm/slurm-19.05.5/lib:/usr/local/slurm/slurm-19.05.5/lib/slurm:/usr/local/lib:\n",
      "2023-02-28 21:22:12.493294: W tensorflow/compiler/tf2tensorrt/utils/py_utils.cc:38] TF-TRT Warning: Cannot dlopen some TensorRT libraries. If you would like to use Nvidia GPU with TensorRT, please make sure the missing libraries mentioned above are installed properly.\n"
     ]
    },
    {
     "name": "stdout",
     "output_type": "stream",
     "text": [
      "Files already downloaded and verified\n"
     ]
    },
    {
     "name": "stderr",
     "output_type": "stream",
     "text": [
      "2023-02-28 21:22:15.690926: E tensorflow/compiler/xla/stream_executor/cuda/cuda_driver.cc:267] failed call to cuInit: CUDA_ERROR_NO_DEVICE: no CUDA-capable device is detected\n",
      "2023-02-28 21:22:15.690980: I tensorflow/compiler/xla/stream_executor/cuda/cuda_diagnostics.cc:156] kernel driver does not appear to be running on this host (wr0): /proc/driver/nvidia/version does not exist\n",
      "2023-02-28 21:22:15.691762: I tensorflow/core/platform/cpu_feature_guard.cc:193] This TensorFlow binary is optimized with oneAPI Deep Neural Network Library (oneDNN) to use the following CPU instructions in performance-critical operations:  AVX2 AVX512F FMA\n",
      "To enable them in other operations, rebuild TensorFlow with the appropriate compiler flags.\n"
     ]
    },
    {
     "ename": "AttributeError",
     "evalue": "Exception encountered when calling layer \"lambda\" (type Lambda).\n\n'Tensor' object has no attribute 'permute'\n\nCall arguments received by layer \"lambda\" (type Lambda):\n  • inputs=tf.Tensor(shape=(None, 3, 32, 32), dtype=float32)\n  • mask=None\n  • training=None",
     "output_type": "error",
     "traceback": [
      "\u001b[0;31m---------------------------------------------------------------------------\u001b[0m",
      "\u001b[0;31mAttributeError\u001b[0m                            Traceback (most recent call last)",
      "Cell \u001b[0;32mIn[1], line 40\u001b[0m\n\u001b[1;32m     21\u001b[0m model\u001b[39m.\u001b[39mfc \u001b[39m=\u001b[39m nn\u001b[39m.\u001b[39mLinear(in_features\u001b[39m=\u001b[39m\u001b[39m512\u001b[39m,out_features\u001b[39m=\u001b[39m\u001b[39m10\u001b[39m)\n\u001b[1;32m     24\u001b[0m \u001b[39m# onnx_file = \"../../results/Coral_Resnet18_model.onnx\"\u001b[39;00m\n\u001b[1;32m     25\u001b[0m \u001b[39m# tf_model_path = \"../../results/Coral_Resnet18_model.tf\"\u001b[39;00m\n\u001b[1;32m     26\u001b[0m \n\u001b[0;32m   (...)\u001b[0m\n\u001b[1;32m     37\u001b[0m \u001b[39m# tf_rep = prepare(onnx_model)\u001b[39;00m\n\u001b[1;32m     38\u001b[0m \u001b[39m# tf_rep.export_graph(tf_model_path)\u001b[39;00m\n\u001b[0;32m---> 40\u001b[0m tf_model \u001b[39m=\u001b[39m tf\u001b[39m.\u001b[39;49mkeras\u001b[39m.\u001b[39;49mmodels\u001b[39m.\u001b[39;49mSequential([\n\u001b[1;32m     41\u001b[0m     tf\u001b[39m.\u001b[39;49mkeras\u001b[39m.\u001b[39;49mlayers\u001b[39m.\u001b[39;49mInputLayer(input_shape\u001b[39m=\u001b[39;49m(\u001b[39m3\u001b[39;49m, \u001b[39m32\u001b[39;49m, \u001b[39m32\u001b[39;49m)),\n\u001b[1;32m     42\u001b[0m     tf\u001b[39m.\u001b[39;49mkeras\u001b[39m.\u001b[39;49mlayers\u001b[39m.\u001b[39;49mLambda(\u001b[39mlambda\u001b[39;49;00m x: x\u001b[39m.\u001b[39;49mpermute(\u001b[39m0\u001b[39;49m, \u001b[39m2\u001b[39;49m, \u001b[39m3\u001b[39;49m, \u001b[39m1\u001b[39;49m)),\n\u001b[1;32m     43\u001b[0m     tf\u001b[39m.\u001b[39;49mkeras\u001b[39m.\u001b[39;49mlayers\u001b[39m.\u001b[39;49mLambda(\u001b[39mlambda\u001b[39;49;00m x: model(torch\u001b[39m.\u001b[39;49mTensor(x\u001b[39m.\u001b[39;49mnumpy())\u001b[39m.\u001b[39;49mpermute(\u001b[39m0\u001b[39;49m, \u001b[39m3\u001b[39;49m, \u001b[39m1\u001b[39;49m, \u001b[39m2\u001b[39;49m))\u001b[39m.\u001b[39;49mdetach()\u001b[39m.\u001b[39;49mnumpy())\n\u001b[1;32m     44\u001b[0m ])\n",
      "File \u001b[0;32m~/anaconda3/envs/rnd/lib/python3.10/site-packages/tensorflow/python/trackable/base.py:205\u001b[0m, in \u001b[0;36mno_automatic_dependency_tracking.<locals>._method_wrapper\u001b[0;34m(self, *args, **kwargs)\u001b[0m\n\u001b[1;32m    203\u001b[0m \u001b[39mself\u001b[39m\u001b[39m.\u001b[39m_self_setattr_tracking \u001b[39m=\u001b[39m \u001b[39mFalse\u001b[39;00m  \u001b[39m# pylint: disable=protected-access\u001b[39;00m\n\u001b[1;32m    204\u001b[0m \u001b[39mtry\u001b[39;00m:\n\u001b[0;32m--> 205\u001b[0m   result \u001b[39m=\u001b[39m method(\u001b[39mself\u001b[39;49m, \u001b[39m*\u001b[39;49margs, \u001b[39m*\u001b[39;49m\u001b[39m*\u001b[39;49mkwargs)\n\u001b[1;32m    206\u001b[0m \u001b[39mfinally\u001b[39;00m:\n\u001b[1;32m    207\u001b[0m   \u001b[39mself\u001b[39m\u001b[39m.\u001b[39m_self_setattr_tracking \u001b[39m=\u001b[39m previous_value  \u001b[39m# pylint: disable=protected-access\u001b[39;00m\n",
      "File \u001b[0;32m~/anaconda3/envs/rnd/lib/python3.10/site-packages/keras/utils/traceback_utils.py:70\u001b[0m, in \u001b[0;36mfilter_traceback.<locals>.error_handler\u001b[0;34m(*args, **kwargs)\u001b[0m\n\u001b[1;32m     67\u001b[0m     filtered_tb \u001b[39m=\u001b[39m _process_traceback_frames(e\u001b[39m.\u001b[39m__traceback__)\n\u001b[1;32m     68\u001b[0m     \u001b[39m# To get the full stack trace, call:\u001b[39;00m\n\u001b[1;32m     69\u001b[0m     \u001b[39m# `tf.debugging.disable_traceback_filtering()`\u001b[39;00m\n\u001b[0;32m---> 70\u001b[0m     \u001b[39mraise\u001b[39;00m e\u001b[39m.\u001b[39mwith_traceback(filtered_tb) \u001b[39mfrom\u001b[39;00m \u001b[39mNone\u001b[39m\n\u001b[1;32m     71\u001b[0m \u001b[39mfinally\u001b[39;00m:\n\u001b[1;32m     72\u001b[0m     \u001b[39mdel\u001b[39;00m filtered_tb\n",
      "Cell \u001b[0;32mIn[1], line 42\u001b[0m, in \u001b[0;36m<lambda>\u001b[0;34m(x)\u001b[0m\n\u001b[1;32m     21\u001b[0m model\u001b[39m.\u001b[39mfc \u001b[39m=\u001b[39m nn\u001b[39m.\u001b[39mLinear(in_features\u001b[39m=\u001b[39m\u001b[39m512\u001b[39m,out_features\u001b[39m=\u001b[39m\u001b[39m10\u001b[39m)\n\u001b[1;32m     24\u001b[0m \u001b[39m# onnx_file = \"../../results/Coral_Resnet18_model.onnx\"\u001b[39;00m\n\u001b[1;32m     25\u001b[0m \u001b[39m# tf_model_path = \"../../results/Coral_Resnet18_model.tf\"\u001b[39;00m\n\u001b[1;32m     26\u001b[0m \n\u001b[0;32m   (...)\u001b[0m\n\u001b[1;32m     37\u001b[0m \u001b[39m# tf_rep = prepare(onnx_model)\u001b[39;00m\n\u001b[1;32m     38\u001b[0m \u001b[39m# tf_rep.export_graph(tf_model_path)\u001b[39;00m\n\u001b[1;32m     40\u001b[0m tf_model \u001b[39m=\u001b[39m tf\u001b[39m.\u001b[39mkeras\u001b[39m.\u001b[39mmodels\u001b[39m.\u001b[39mSequential([\n\u001b[1;32m     41\u001b[0m     tf\u001b[39m.\u001b[39mkeras\u001b[39m.\u001b[39mlayers\u001b[39m.\u001b[39mInputLayer(input_shape\u001b[39m=\u001b[39m(\u001b[39m3\u001b[39m, \u001b[39m32\u001b[39m, \u001b[39m32\u001b[39m)),\n\u001b[0;32m---> 42\u001b[0m     tf\u001b[39m.\u001b[39mkeras\u001b[39m.\u001b[39mlayers\u001b[39m.\u001b[39mLambda(\u001b[39mlambda\u001b[39;00m x: x\u001b[39m.\u001b[39;49mpermute(\u001b[39m0\u001b[39m, \u001b[39m2\u001b[39m, \u001b[39m3\u001b[39m, \u001b[39m1\u001b[39m)),\n\u001b[1;32m     43\u001b[0m     tf\u001b[39m.\u001b[39mkeras\u001b[39m.\u001b[39mlayers\u001b[39m.\u001b[39mLambda(\u001b[39mlambda\u001b[39;00m x: model(torch\u001b[39m.\u001b[39mTensor(x\u001b[39m.\u001b[39mnumpy())\u001b[39m.\u001b[39mpermute(\u001b[39m0\u001b[39m, \u001b[39m3\u001b[39m, \u001b[39m1\u001b[39m, \u001b[39m2\u001b[39m))\u001b[39m.\u001b[39mdetach()\u001b[39m.\u001b[39mnumpy())\n\u001b[1;32m     44\u001b[0m ])\n",
      "\u001b[0;31mAttributeError\u001b[0m: Exception encountered when calling layer \"lambda\" (type Lambda).\n\n'Tensor' object has no attribute 'permute'\n\nCall arguments received by layer \"lambda\" (type Lambda):\n  • inputs=tf.Tensor(shape=(None, 3, 32, 32), dtype=float32)\n  • mask=None\n  • training=None"
     ]
    }
   ],
   "source": [
    "import os\n",
    "import onnx\n",
    "import torch\n",
    "from torch import nn\n",
    "import tensorflow as tf\n",
    "from onnx_tf.backend import prepare\n",
    "from torchvision.models import resnet18,mobilenet_v2,ResNet18_Weights\n",
    "import torchvision\n",
    "import torchvision.transforms as transforms\n",
    "\n",
    "\n",
    "data_dir = os.path.abspath(\"../../data\")\n",
    "transform = transforms.Compose([transforms.ToTensor(),transforms.Normalize((0.5, 0.5, 0.5), (0.5, 0.5, 0.5)), transforms.RandomErasing()])\n",
    "trainset = torchvision.datasets.CIFAR10(root=data_dir, train=True, download=True, transform=transform)\n",
    "trainloader = torch.utils.data.DataLoader(trainset, batch_size=4, shuffle=True, num_workers=2)\n",
    "\n",
    "dataiter = iter(trainloader) \n",
    "images, labels = next(dataiter)\n",
    "\n",
    "model = resnet18(weights = ResNet18_Weights.DEFAULT)\n",
    "model.fc = nn.Linear(in_features=512,out_features=10)\n",
    "\n",
    "\n",
    "onnx_file = \"../../results/Coral_Resnet18_model.onnx\"\n",
    "tf_model_path = \"../../results/Coral_Resnet18_model.tf\"\n",
    "\n",
    "\n",
    "torch.onnx.export(\n",
    "    model,\n",
    "    images,\n",
    "    onnx_file,\n",
    "    opset_version=12,\n",
    "    do_constant_folding=True,\n",
    ")\n",
    "\n",
    "onnx_model =  onnx.load(onnx_file)\n",
    "tf_rep = prepare(onnx_model)\n",
    "tf_rep.export_graph(tf_model_path)\n",
    "\n",
    "# tf_model = tf.keras.models.Sequential([\n",
    "#     tf.keras.layers.InputLayer(input_shape=(3, 32, 32)),\n",
    "#     tf.keras.layers.Lambda(lambda x: x.permute(0, 2, 3, 1)),\n",
    "#     tf.keras.layers.Lambda(lambda x: model(torch.Tensor(x.numpy()).permute(0, 3, 1, 2)).detach().numpy())\n",
    "# ])"
   ]
  },
  {
   "cell_type": "code",
   "execution_count": null,
   "metadata": {},
   "outputs": [],
   "source": [
    "tflite_model_path = \"../../results/Coral_Resnet18_model.tflite\"\n",
    "\n",
    "IMAGE_SIZE = 32\n",
    "(train_images, train_labels), (_, _) = tf.keras.datasets.cifar10.load_data()\n",
    "def representative_data_gen():\n",
    "    for i in range(100):\n",
    "        # Get a random image from the CIFAR-10 training dataset\n",
    "        image = train_images[i % len(train_images)]\n",
    "        # Resize the image to the desired size\n",
    "        image = tf.image.resize(image, [IMAGE_SIZE, IMAGE_SIZE])\n",
    "        # Normalize the pixel values\n",
    "        image = tf.cast(image / 255., tf.float32)\n",
    "        # Add an extra dimension to represent a batch of size 1\n",
    "        image = tf.expand_dims(image, 0)\n",
    "        # Yield the image as representative data\n",
    "        yield [image]\n",
    "\n",
    "\n",
    "\n",
    "converter = tf.lite.TFLiteConverter.from_saved_model(tf_model_path)\n",
    "#converter = tf.lite.TFLiteConverter.from_keras_model(tf_model)\n",
    "converter.optimizations = [tf.lite.Optimize.DEFAULT]\n",
    "converter.representative_dataset = representative_data_gen\n",
    "converter.target_spec.supported_ops = [tf.lite.OpsSet.TFLITE_BUILTINS_INT8]\n",
    "converter.target_spec.supported_types = [tf.int8]\n",
    "converter.inference_input_type = tf.uint8\n",
    "converter.inference_output_type = tf.uint8\n",
    "\n",
    "\n",
    "tflite_model = converter.convert()\n",
    "with open(tflite_model_path, 'wb') as f: \n",
    "    f.write(tflite_model)"
   ]
  },
  {
   "cell_type": "code",
   "execution_count": null,
   "metadata": {},
   "outputs": [],
   "source": []
  }
 ],
 "metadata": {
  "kernelspec": {
   "display_name": "rnd",
   "language": "python",
   "name": "python3"
  },
  "language_info": {
   "codemirror_mode": {
    "name": "ipython",
    "version": 3
   },
   "file_extension": ".py",
   "mimetype": "text/x-python",
   "name": "python",
   "nbconvert_exporter": "python",
   "pygments_lexer": "ipython3",
   "version": "3.10.9"
  },
  "orig_nbformat": 4,
  "vscode": {
   "interpreter": {
    "hash": "6f7e8fdd6c7089b66554fb6a2fb9ba4ef5dc66a5cacc103223d0f5e702d5f7a8"
   }
  }
 },
 "nbformat": 4,
 "nbformat_minor": 2
}
