{
 "cells": [
  {
   "cell_type": "code",
   "execution_count": 3,
   "id": "ffc15145",
   "metadata": {},
   "outputs": [
    {
     "name": "stdout",
     "output_type": "stream",
     "text": [
      "Downloading ../../results/test_openvino_2021.4_6shave.blob...\n",
      "[==================================================]\n",
      "Done\n"
     ]
    },
    {
     "data": {
      "text/plain": [
       "PosixPath('../../results/test_openvino_2021.4_6shave.blob')"
      ]
     },
     "execution_count": 3,
     "metadata": {},
     "output_type": "execute_result"
    }
   ],
   "source": [
    "#! /usr/bin/env python3\n",
    "\n",
    "import torch\n",
    "from torch import nn\n",
    "import blobconverter\n",
    "from onnxsim import simplify\n",
    "import onnx\n",
    "import torch.nn.functional as F\n",
    "\n",
    "class Model(nn.Module):\n",
    "    def __init__(self):\n",
    "        super(Model, self).__init__()\n",
    "        self.fc1 = nn.Linear(4, 100)\n",
    "        self.fc2 = nn.Linear(100, 100)\n",
    "        self.fc3 = nn.Linear(100, 3)\n",
    "        self.softmax = nn.Softmax(dim=1) \n",
    "\n",
    "    def forward(self, X):\n",
    "        X = F.relu(self.fc1(X))\n",
    "        X = self.fc2(X)\n",
    "        X = self.fc3(X)\n",
    "        return X\n",
    "    # def forward(self, image):\n",
    "    #     return torch.rand(1, dim=0)\n",
    "\n",
    "\n",
    "shape = (10,4)\n",
    "model = Model()\n",
    "X = torch.ones(shape, dtype=torch.float32)\n",
    "\n",
    "\n",
    "onnx_file = \"../../results/test.onnx\"\n",
    "\n",
    "\n",
    "torch.onnx.export(\n",
    "    model,\n",
    "    X,\n",
    "    onnx_file,\n",
    "    opset_version=12,\n",
    "    do_constant_folding=True,\n",
    ")\n",
    "\n",
    "\n",
    "onnx_simplified_path = \"../../results/onnx_simple.onnx\"\n",
    "onnx_model =  onnx.load(onnx_file)\n",
    "model_simp, check = simplify(onnx_model)\n",
    "onnx.save(model_simp, onnx_simplified_path)\n",
    "\n",
    "\n",
    "blobconverter.from_onnx(\n",
    "    model=onnx_file,\n",
    "    data_type=\"FP16\",\n",
    "    shaves=6,\n",
    "    use_cache=False,\n",
    "    output_dir=\"../../results\",\n",
    "    optimizer_params=[]\n",
    ")"
   ]
  }
 ],
 "metadata": {
  "kernelspec": {
   "display_name": "rnd",
   "language": "python",
   "name": "python3"
  },
  "language_info": {
   "codemirror_mode": {
    "name": "ipython",
    "version": 3
   },
   "file_extension": ".py",
   "mimetype": "text/x-python",
   "name": "python",
   "nbconvert_exporter": "python",
   "pygments_lexer": "ipython3",
   "version": "3.10.9"
  },
  "vscode": {
   "interpreter": {
    "hash": "6f7e8fdd6c7089b66554fb6a2fb9ba4ef5dc66a5cacc103223d0f5e702d5f7a8"
   }
  }
 },
 "nbformat": 4,
 "nbformat_minor": 5
}
